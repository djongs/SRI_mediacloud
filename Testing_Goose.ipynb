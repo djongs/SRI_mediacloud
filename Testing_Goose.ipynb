{
 "metadata": {
  "name": "",
  "signature": "sha256:286bc83b8c65dd73d2564a815f38c72debb5b8bc03f27bfc17513ffa4c6c589b"
 },
 "nbformat": 3,
 "nbformat_minor": 0,
 "worksheets": [
  {
   "cells": [
    {
     "cell_type": "code",
     "collapsed": false,
     "input": [
      "import goose\n",
      "import time\n",
      "import chardet"
     ],
     "language": "python",
     "metadata": {},
     "outputs": [],
     "prompt_number": 7
    },
    {
     "cell_type": "code",
     "collapsed": false,
     "input": [
      "%pylab inline"
     ],
     "language": "python",
     "metadata": {},
     "outputs": [
      {
       "output_type": "stream",
       "stream": "stdout",
       "text": [
        "Populating the interactive namespace from numpy and matplotlib\n"
       ]
      }
     ],
     "prompt_number": 2
    },
    {
     "cell_type": "code",
     "collapsed": false,
     "input": [
      "import glob, codecs\n",
      "raw_data = glob.glob(\"raw_data/*\")\n",
      "print \"{} Documentos no banco: \".format(len(raw_data)),raw_data[:3]\n",
      "\n",
      "raw_docs = []\n",
      "for path in raw_data:\n",
      "    with codecs.open(path,'r') as f:\n",
      "        txt = f.read()\n",
      "        enc = chardet.detect(txt)['encoding']\n",
      "        if enc is None:\n",
      "            continue\n",
      "        txt = txt.decode(enc)\n",
      "        raw_docs.append(txt)\n",
      "\n",
      "import tidylib \n",
      "raw_docs = [ tidylib.tidy_document(html,options={'indent':0})[0] for html in raw_docs ]"
     ],
     "language": "python",
     "metadata": {},
     "outputs": [
      {
       "output_type": "stream",
       "stream": "stdout",
       "text": [
        "500 Documentos no banco:  ['raw_data/texto_55.html', 'raw_data/texto_158.html', 'raw_data/texto_187.html']\n"
       ]
      }
     ],
     "prompt_number": 11
    },
    {
     "cell_type": "code",
     "collapsed": false,
     "input": [
      "Goo = goose.Goose({'enable_image_fetching':False})"
     ],
     "language": "python",
     "metadata": {},
     "outputs": [],
     "prompt_number": 24
    },
    {
     "cell_type": "code",
     "collapsed": false,
     "input": [
      "cleaned_texts = []\n",
      "n = 0.\n",
      "tt = 0.\n",
      "for d in raw_docs:\n",
      "    t0= time.time()\n",
      "    try:\n",
      "        cd = Goo.extract(raw_html=d)\n",
      "        cleaned_texts.append(cd)\n",
      "        tt += time.time()-t0\n",
      "        n +=1\n",
      "        print cd.title, cd.tags\n",
      "    except ValueError as e:\n",
      "        print \"!!!> \",e\n",
      "print \"Average extraction time per page {} seconds\".format(tt/n)"
     ],
     "language": "python",
     "metadata": {},
     "outputs": [
      {
       "output_type": "stream",
       "stream": "stdout",
       "text": [
        "Instituto Latino Americano de Educa\u00c3\u00a7\u00c3\u00a3o set([])\n",
        "Henrique Meirelles"
       ]
      },
      {
       "output_type": "stream",
       "stream": "stdout",
       "text": [
        " set([])\n",
        "Magno Malta pede ajuda do governo para cafeicultura em seu estado \u2014 Senado Federal"
       ]
      },
      {
       "output_type": "stream",
       "stream": "stdout",
       "text": [
        " set([])\n",
        "Para Fiesp, balan\u00e7a ter\u00e1 super\u00e1vit de US$ 16 bi em 2014"
       ]
      },
      {
       "output_type": "stream",
       "stream": "stdout",
       "text": [
        " set([])\n",
        "Concess\u00f5es mudam perfil das grandes construtoras"
       ]
      },
      {
       "output_type": "stream",
       "stream": "stdout",
       "text": [
        " set([])\n",
        "Cooperativismo em Revista :. Rio Claro(SP): Prefeitura e Unesp lan\u00e7am livro sobre Economia Solid\u00e1ria set([])\n",
        "Rede Nacional de Informa\u00e7\u00f5es sobre o Investimento"
       ]
      },
      {
       "output_type": "stream",
       "stream": "stdout",
       "text": [
        " set([])\n",
        "A Relev\u00c3\u00a2ncia dos Organismos Internacionais"
       ]
      },
      {
       "output_type": "stream",
       "stream": "stdout",
       "text": [
        " set([])\n",
        "Concess\u00f5es mudam perfil das grandes construtoras"
       ]
      },
      {
       "output_type": "stream",
       "stream": "stdout",
       "text": [
        " set([])\n",
        "Folha realiza segunda rodada de debates sobre o golpe de 1964"
       ]
      },
      {
       "output_type": "stream",
       "stream": "stdout",
       "text": [
        " set([])\n",
        "Abraciclo n\u00e3o v\u00ea crescimento do setor de motos em 2014"
       ]
      },
      {
       "output_type": "stream",
       "stream": "stdout",
       "text": [
        " set([])\n",
        "An\u00e1lise: Jacques Le Goff mudou olhar de acad\u00eamicos sobre Idade M\u00e9dia"
       ]
      },
      {
       "output_type": "stream",
       "stream": "stdout",
       "text": [
        " set([])\n",
        "Eletrobras investe s\u00f3 43% do previsto para o ano"
       ]
      },
      {
       "output_type": "stream",
       "stream": "stdout",
       "text": [
        " set([])\n",
        "Medicamento ter\u00e1 em 2013 novo recorde de vendas"
       ]
      },
      {
       "output_type": "stream",
       "stream": "stdout",
       "text": [
        " set([])\n",
        "Conhe\u00e7a o texto base do plano de governo da coliga\u00e7\u00e3o PSB-Rede"
       ]
      },
      {
       "output_type": "stream",
       "stream": "stdout",
       "text": [
        " set([u'.justi\\xe7a', u'.Olinda', u'.Justi\\xe7a', u'.Educa\\xe7\\xe3o', u'.Lula', u'.Imagens', u'.Recife', u'.Esportes', u'.Futebol', u'.pol\\xedtica'])\n",
        "Trabalho da Auditoria Interna da UFC \u00e9 refer\u00eancia nacional, atesta o MEC set([])\n",
        "Elias defende reforma tribut\u00e1ria em encontro de Prefeitos em Gravat\u00e1"
       ]
      },
      {
       "output_type": "stream",
       "stream": "stdout",
       "text": [
        " set([u'.justi\\xe7a', u'.Olinda', u'.Justi\\xe7a', u'.Educa\\xe7\\xe3o', u'.Lula', u'.Imagens', u'.Recife', u'.Esportes', u'.Futebol', u'.pol\\xedtica'])\n",
        "403 Forbidden set([])\n",
        "Reputa\u00e7\u00e3o ser\u00e1 moeda no mundo p\u00f3s-financeiro"
       ]
      },
      {
       "output_type": "stream",
       "stream": "stdout",
       "text": [
        " set([])\n",
        "Aldemir Bendine"
       ]
      },
      {
       "output_type": "stream",
       "stream": "stdout",
       "text": [
        " set([])\n",
        "A\u00e9cio: 'Ganhar em SP \u00e9 caminho para vencer no Brasil'"
       ]
      },
      {
       "output_type": "stream",
       "stream": "stdout",
       "text": [
        " set([])\n",
        "!!!>  Unicode strings with encoding declaration are not supported. Please use bytes input or XML fragments without declaration.\n",
        "Diario do Nordeste"
       ]
      },
      {
       "output_type": "stream",
       "stream": "stdout",
       "text": [
        " set([])\n",
        "Cooperativismo em Revista :. Unicopas nasce para fortalecer o cooperativismo solid\u00e1rio set([])\n",
        "Governo inaugura Centro de Economia Solid\u00e1ria em Cruz das Almas"
       ]
      },
      {
       "output_type": "stream",
       "stream": "stdout",
       "text": [
        " set([])\n",
        "403 Forbidden set([])\n",
        "Como a pol\u00edtica macroecon\u00f4mica da Alemanha afeta a economia mundial"
       ]
      },
      {
       "output_type": "stream",
       "stream": "stdout",
       "text": [
        " set([u'Indicadores', u'Esportes', u'Mercados', u'Cidadania', u'Departamento do Tesouro dos EUA', u'Economia', u'crise europeia', u'Alemanha', u'Pol\\xedtica', u'Trabalho', u'Gest\\xe3o P\\xfablica'])\n",
        "Metade dos Estados investe menos do que em 2009"
       ]
      },
      {
       "output_type": "stream",
       "stream": "stdout",
       "text": [
        " set([])\n",
        "Editorial: Superar o passado"
       ]
      },
      {
       "output_type": "stream",
       "stream": "stdout",
       "text": [
        " set([])\n",
        "Mantega acredita que economia freou no terceiro trimestre"
       ]
      },
      {
       "output_type": "stream",
       "stream": "stdout",
       "text": [
        " set([])\n",
        "Confira dos destaques da edi\u00e7\u00e3o 778 de CartaCapital \u2014 CartaCapital"
       ]
      },
      {
       "output_type": "stream",
       "stream": "stdout",
       "text": [
        " set([])\n",
        "fato! \u00ab Cartas na Manga"
       ]
      },
      {
       "output_type": "stream",
       "stream": "stdout",
       "text": [
        " set([u'imovel', u'investimento imobiliario', u'mercado imobiliario', u'imoveis', u'bolha imobiliaria'])\n",
        "Constru\u00e7\u00e3o civil se recupera, mas setor crescer\u00e1 abaixo do PIB"
       ]
      },
      {
       "output_type": "stream",
       "stream": "stdout",
       "text": [
        " set([])\n",
        "Historiador v\u00ea PT no poder como 'd\u00e9cada perdida'"
       ]
      },
      {
       "output_type": "stream",
       "stream": "stdout",
       "text": [
        " set([])\n",
        "Ibovespa Futuro registra nova sess\u00e3o de ganhos repercutindo China e \u00e0 espera dos EUA"
       ]
      },
      {
       "output_type": "stream",
       "stream": "stdout",
       "text": [
        " set([])\n",
        "Trabalhador negro ganha 36% menos que o n\u00e3o negro, diz estudo do Dieese set([])\n",
        "Banco Fibra revisa PIB de 2013 de 2,5% para 2,2%"
       ]
      },
      {
       "output_type": "stream",
       "stream": "stdout",
       "text": [
        " set([])\n",
        "O Mercosul como sistema integracional e sua fun\u00c3\u00a7\u00c3\u00a3o no sistema normativo, atrav\u00c3\u00a9s do parlamento"
       ]
      },
      {
       "output_type": "stream",
       "stream": "stdout",
       "text": [
        " set([])\n",
        "O Minist\u00e9rio  Not\u00edcias: MDIC e Apex-Brasil promovem Miss\u00e3o Empresarial ao Norte da \u00c1frica"
       ]
      },
      {
       "output_type": "stream",
       "stream": "stdout",
       "text": [
        " set([])\n",
        "Sustentabilidade"
       ]
      },
      {
       "output_type": "stream",
       "stream": "stdout",
       "text": [
        " set([])\n",
        "HC de Porto Alegre inaugura centro de simula\u00e7\u00e3o cir\u00fargica"
       ]
      },
      {
       "output_type": "stream",
       "stream": "stdout",
       "text": [
        " set([u'Hospital de Cl\\xednicas de Porto Alegre', u'Parcerias', u'Custos', u'Associa\\xe7\\xf5es', u'Projeto de Lei', u'recursos', u'Administra\\xe7\\xe3o', u'Estrat\\xe9gia', u'Servi\\xe7os', u'Sa\\xfade p\\xfablica', u'Instituto Simutec', u'Investimento', u'Regula\\xe7\\xe3o', u'Cirurgia', u'Hospitais', u'planos de s\\xe1ude', u'Justi\\xe7a', u'Hospital', u'Gest\\xe3o', u'simula\\xe7\\xe3o', u'pesquisa', u'balan\\xe7o', u'Pesquisas', u'aquisi\\xe7\\xe3o', u'c\\xe2ncer', u'Operadoras', u'Medicamentos', u'Tecnologia', u'Minist\\xe9rio da Sa\\xfade', u'm\\xe9dicos', u'educa\\xe7\\xe3o', u'Ind\\xfastria Farmac\\xeautica', u'Expans\\xe3o', u'Anvisa', u'carreiras', u'Sa\\xfade', u'ANS', u'SUS', u'neg\\xf3cios', u'Centro de Simula\\xe7\\xe3o em Procedimentos Minimamente Invasivos'])\n",
        "Sustentabilidade"
       ]
      },
      {
       "output_type": "stream",
       "stream": "stdout",
       "text": [
        " set([])\n",
        "Mercado de auto frotas da Yasuda avan\u00e7a"
       ]
      },
      {
       "output_type": "stream",
       "stream": "stdout",
       "text": [
        " set([])\n",
        "Rede Nacional de Informa\u00e7\u00f5es sobre o Investimento set([])\n",
        "Os testes com o primeiro helic\u00f3ptero militar produzido no pa\u00eds"
       ]
      },
      {
       "output_type": "stream",
       "stream": "stdout",
       "text": [
        " set([u'Ci\\xeancia', u'Infraestrutura', u'Economia', u'Helibr\\xe1s', u'Cultura', u'Sa\\xfade', u'Pol\\xedtica', u'Habita\\xe7\\xe3o', u'helic\\xf3ptero militar'])\n",
        "Crise mundial n\u00e3o afetou trabalho no Brasil, diz Mantega"
       ]
      },
      {
       "output_type": "stream",
       "stream": "stdout",
       "text": [
        " set([])\n",
        "Com\u00e9rcio e Servi\u00e7os  Not\u00edcias: Empres\u00e1rios l\u00edderes participam do Simbracs 2013 set([])\n",
        "Superintend\u00eancia regional do trabalho tem novo titular"
       ]
      },
      {
       "output_type": "stream",
       "stream": "stdout",
       "text": [
        " set([u'PDT', u'trabalho'])\n",
        "Os juros no pa\u00eds da jabuticaba"
       ]
      },
      {
       "output_type": "stream",
       "stream": "stdout",
       "text": [
        " set([u'Mercados', u'taxa Selic', u'Luis Nassif', u'Cidadania', u'Pol\\xedtica Monet\\xe1ria', u'Com\\xe9rcio exterior', u'Cultura', u'Pol\\xedtica', u'Neg\\xf3cios', u'An\\xe1lise', u'taxa de juros'])\n",
        "Lob\u00e3o diz que considera campanha de economia de energia para a Copa"
       ]
      },
      {
       "output_type": "stream",
       "stream": "stdout",
       "text": [
        " set([])\n",
        "Programa de eficientiza\u00e7\u00e3o reduz despesa de energia el\u00e9trica no Parque Assis Brasil set([])\n",
        "Vendas no varejo da China aceleram em novembro"
       ]
      },
      {
       "output_type": "stream",
       "stream": "stdout",
       "text": [
        " set([])\n",
        "Uma bomba de R$ 150 bilh\u00f5es"
       ]
      },
      {
       "output_type": "stream",
       "stream": "stdout",
       "text": [
        " set([])\n",
        "Estamos fazendo ajustes para manter o crescimento sustent\u00e1vel em torno de 5%\", diz Ministra \u2014 Or\u00e7amento Federal set([u'Clipping'])\n",
        "Refis atraiu 75 bancos e 55 multinacionais"
       ]
      },
      {
       "output_type": "stream",
       "stream": "stdout",
       "text": [
        " set([])\n",
        "Estados Unidos, Venezuela e Paraguai Erextna Norte-Americana no Mercosul"
       ]
      },
      {
       "output_type": "stream",
       "stream": "stdout",
       "text": [
        " set([])\n",
        "Tr\u00eas comiss\u00f5es se re\u00fanem e aprovam dois projetos e audi\u00eancia set([])\n",
        "Banco central de Portugal prev\u00ea retorno ao crescimento em 2014"
       ]
      },
      {
       "output_type": "stream",
       "stream": "stdout",
       "text": [
        " set([])\n",
        "A noite do agroneg\u00f3cio"
       ]
      },
      {
       "output_type": "stream",
       "stream": "stdout",
       "text": [
        " set([])\n",
        "Tombini destaca confian\u00e7a de investidores no crescimento \u2014 Senado Federal"
       ]
      },
      {
       "output_type": "stream",
       "stream": "stdout",
       "text": [
        " set([])\n",
        "Deputados discutem crise"
       ]
      },
      {
       "output_type": "stream",
       "stream": "stdout",
       "text": [
        " set([])\n",
        "A vit\u00f3ria do empreendedorismo"
       ]
      },
      {
       "output_type": "stream",
       "stream": "stdout",
       "text": [
        " set([])\n",
        "Mudan\u00e7a versus continuidade nas elei\u00e7\u00f5es de 2014"
       ]
      },
      {
       "output_type": "stream",
       "stream": "stdout",
       "text": [
        " set([u'.justi\\xe7a', u'.Olinda', u'.Justi\\xe7a', u'.Educa\\xe7\\xe3o', u'.Lula', u'.Imagens', u'.Recife', u'.Esportes', u'.Futebol', u'.pol\\xedtica'])\n",
        "China divulga plano de reforma econ\u00f4mica"
       ]
      },
      {
       "output_type": "stream",
       "stream": "stdout",
       "text": [
        " set([u'reforma econ\\xf4mica', u'Cidadania', u'Internacional', u'Economia', u'China', u'Cultura', u'Pol\\xedtica', u'Justi\\xe7a', u'An\\xe1lise', u'Hist\\xf3ria'])\n",
        "Bill Clinton elogia rea\u00e7\u00e3o de Dilma a protestos de junho"
       ]
      },
      {
       "output_type": "stream",
       "stream": "stdout",
       "text": [
        " set([])\n",
        "Rede Nacional de Informa\u00e7\u00f5es sobre o Investimento set([])\n",
        "Iene se enfraquece ante d\u00f3lar ap\u00f3s discurso de Yellen"
       ]
      },
      {
       "output_type": "stream",
       "stream": "stdout",
       "text": [
        " set([])\n",
        "Veja as carreiras em que o diploma conta mais para o sal\u00e1rio"
       ]
      },
      {
       "output_type": "stream",
       "stream": "stdout",
       "text": [
        " set([])\n",
        "Ibovespa realiza lucros; d\u00f3lar recua"
       ]
      },
      {
       "output_type": "stream",
       "stream": "stdout",
       "text": [
        " set([])\n",
        "Brasil \u00e9 um dos 3 com recuo no PIB no 3\u00ba trimestre"
       ]
      },
      {
       "output_type": "stream",
       "stream": "stdout",
       "text": [
        " set([])\n",
        "?Reduzir pobreza, \u00e9 melhorar servi\u00e7os?, diz economista"
       ]
      },
      {
       "output_type": "stream",
       "stream": "stdout",
       "text": [
        " set([])\n",
        "Acordo nuclear facilita a exporta\u00e7\u00e3o de petr\u00f3leo iraniano"
       ]
      },
      {
       "output_type": "stream",
       "stream": "stdout",
       "text": [
        " set([])\n",
        "Rouhani diz que problemas econ\u00f4micos do Ir\u00e3 v\u00e3o al\u00e9m de san\u00e7\u00f5es"
       ]
      },
      {
       "output_type": "stream",
       "stream": "stdout",
       "text": [
        " set([])\n",
        "O Minist\u00e9rio  Not\u00edcias: Camex aprova cota adicional para importa\u00e7\u00e3o de trigo sem imposto set([])\n",
        "Profissionais muito estressados"
       ]
      },
      {
       "output_type": "stream",
       "stream": "stdout",
       "text": [
        " set([])\n",
        "Petr\u00f3leo fecha em queda em Nova York a 97,34 d\u00f3lares o barril"
       ]
      },
      {
       "output_type": "stream",
       "stream": "stdout",
       "text": [
        " set([])\n",
        "A\u00e7\u00f5es asi\u00e1ticas sobem com esperan\u00e7a sobre est\u00edmulo na China"
       ]
      },
      {
       "output_type": "stream",
       "stream": "stdout",
       "text": [
        " set([])\n",
        "Percentual de compras federais sustent\u00e1veis \u00e9 muito baixo set([])\n",
        "Jap\u00e3o melhora avalia\u00e7\u00e3o sobre a economia"
       ]
      },
      {
       "output_type": "stream",
       "stream": "stdout",
       "text": [
        " set([])\n",
        "A\u00e9cio: 'Ganhar em SP \u00e9 caminho para vencer no Brasil'"
       ]
      },
      {
       "output_type": "stream",
       "stream": "stdout",
       "text": [
        " set([])\n",
        "OMC chega a acordo para facilitar fluxo mundial de bens"
       ]
      },
      {
       "output_type": "stream",
       "stream": "stdout",
       "text": [
        " set([])\n",
        "FGV: menos ind\u00fastrias ampliar\u00e3o investimentos em 2014"
       ]
      },
      {
       "output_type": "stream",
       "stream": "stdout",
       "text": [
        " set([])\n",
        "entreguismo, mentiras, repress\u00e3o e contradi\u00e7\u00f5es set([])\n",
        "Para Mantega, conselho da Petrobras agiu corretamente na compra de Pasadena"
       ]
      },
      {
       "output_type": "stream",
       "stream": "stdout",
       "text": [
        " set([])\n",
        "!!!>  Unicode strings with encoding declaration are not supported. Please use bytes input or XML fragments without declaration.\n",
        "Como o mercado enredou o Banco Central"
       ]
      },
      {
       "output_type": "stream",
       "stream": "stdout",
       "text": [
        " set([u'Indicadores', u'Mercados', u'taxa Selic', u'Economia', u'Luis Nassif', u'Banco Central', u'Desenvolvimento', u'mercado financeiro', u'Energia', u'Com\\xe9rcio exterior', u'Pol\\xedtica', u'Pol\\xedtica Monet\\xe1ria'])\n",
        "Setor privado franc\u00eas corta empregos no 3\u00batri"
       ]
      },
      {
       "output_type": "stream",
       "stream": "stdout",
       "text": [
        " set([])\n",
        "Marina Silva pode lan\u00e7ar carta aos agricultores"
       ]
      },
      {
       "output_type": "stream",
       "stream": "stdout",
       "text": [
        " set([u'.justi\\xe7a', u'.Olinda', u'.Justi\\xe7a', u'.Educa\\xe7\\xe3o', u'.Lula', u'.Imagens', u'.Recife', u'.Esportes', u'.Futebol', u'.pol\\xedtica'])\n",
        "Apesar de restri\u00e7\u00f5es or\u00e7ament\u00e1rias, aquisi\u00e7\u00f5es da Marinha avan\u00e7am"
       ]
      },
      {
       "output_type": "stream",
       "stream": "stdout",
       "text": [
        " set([u'marinha', u'Seguran\\xe7a P\\xfablica', u'Internacional', u'Pol\\xedticas Sociais', u'Cultura', u'Partidos', u'Pol\\xedtica', u'An\\xe1lise'])\n",
        "Cooperativismo em Revista :. Empreendedorismo rural \u00e9 destaque em Encontro Estadual, realizado em Pinhais set([])\n",
        "Norte-americanos reduzem compras no feriado"
       ]
      },
      {
       "output_type": "stream",
       "stream": "stdout",
       "text": [
        " set([])\n",
        "Bovespa opera em baixa no primeiro preg\u00e3o do m\u00eas"
       ]
      },
      {
       "output_type": "stream",
       "stream": "stdout",
       "text": [
        " set([])\n",
        "PBoC vai expandir a banda de negocia\u00e7\u00e3o do yuan"
       ]
      },
      {
       "output_type": "stream",
       "stream": "stdout",
       "text": [
        " set([])\n",
        "Economia de Pernambuco cresce acima da nacional, mas abaixo da meta estabelecida"
       ]
      },
      {
       "output_type": "stream",
       "stream": "stdout",
       "text": [
        " set([u'Agronegocio', u'Estaleiro', u'Constru\\xe7\\xe3o Civil', u'Inova\\xe7\\xe3o', u'Turismo', u'Transnordestina', u'Franquias', u'Pernambuco', u'Porto Digital', u'Suape', u'Destaque', u'Copa 2014', u'Pr\\xe9-sal', u'Meio Ambiente', u'Cabotagem', u'Marketing', u'PIB', u'Tecnologia da Informa\\xe7\\xe3o', u'Investimentos', u'China', u'Banco Central', u'Varejo', u'Mobilidade', u'Petr\\xf3leo', u'Petrobr\\xe1s', u'Emprego', u'FIAT', u'Biocombust\\xedvel', u'Log\\xedstica', u'Simples Nacional', u'Educa\\xe7\\xe3o', u'Mercosul', u'Siderurgia', u'Sebrae', u'ICMS', u'Recife', u'BRICs', u'Energia E\\xf3lica', u'BNDES', u'Refinaria', u'Nordeste', u'Infraestrutura', u'Artesanato', u'Soldador'])\n",
        "Segunda companhia privada da China deixa de cumprir pagamento de b\u00f4nus"
       ]
      },
      {
       "output_type": "stream",
       "stream": "stdout",
       "text": [
        " set([])\n",
        "Jo\u00e3o Pereira Coutinho"
       ]
      },
      {
       "output_type": "stream",
       "stream": "stdout",
       "text": [
        " set([])\n",
        "O Minist\u00e9rio  Not\u00edcias: Brasil trabalha para se tornar economia \u00e1gil, diz Fernando Pimentel set([])\n",
        "Catarinenses na s\u00e9rie B do Brasileir\u00e3o"
       ]
      },
      {
       "output_type": "stream",
       "stream": "stdout",
       "text": [
        " set([u'Brasileir\\xe3o s\\xe9rie B', u'Fora das quatro linhas'])\n",
        "Estoque menor j\u00e1 indica desconfian\u00e7a do com\u00e9rcio"
       ]
      },
      {
       "output_type": "stream",
       "stream": "stdout",
       "text": [
        " set([])\n",
        "Coletivo Criar Amaz\u00f4nia recebe pr\u00eamio nacional set([])\n",
        "Cerca de 5 milh\u00f5es de contribuintes entregaram declara\u00e7\u00e3o do IR"
       ]
      },
      {
       "output_type": "stream",
       "stream": "stdout",
       "text": [
        " set([u'Patrocinadores', u'imposto', u'renda'])\n",
        "Tombini reitera que BC atuar\u00e1 no mercado cambial em 2014"
       ]
      },
      {
       "output_type": "stream",
       "stream": "stdout",
       "text": [
        " set([])\n",
        "Not\u00edcia > Canad\u00e1 facilita entrada de turistas sem comprova\u00e7\u00e3o financeira"
       ]
      },
      {
       "output_type": "stream",
       "stream": "stdout",
       "text": [
        " set([])\n",
        "Dilma quer contratar at\u00e9 o fim de dezembro mais 700 mil moradias no Minha Casa, Minha Vida"
       ]
      },
      {
       "output_type": "stream",
       "stream": "stdout",
       "text": [
        " set([])\n",
        "Defla\u00e7\u00e3o est\u00e1 chegando ao fim, diz Furusawa"
       ]
      },
      {
       "output_type": "stream",
       "stream": "stdout",
       "text": [
        " set([])\n",
        "Decreto de Dilma exige uso de e-mail pr\u00c3\u00b3prio pelo do governo contra espionagem"
       ]
      },
      {
       "output_type": "stream",
       "stream": "stdout",
       "text": [
        " set([])\n",
        "Linha de passe"
       ]
      },
      {
       "output_type": "stream",
       "stream": "stdout",
       "text": [
        " set([])\n",
        "Bill Clinton elogia rea\u00e7\u00e3o de Dilma a protestos de junho"
       ]
      },
      {
       "output_type": "stream",
       "stream": "stdout",
       "text": [
        " set([])\n",
        "Contrato de refinaria n\u00e3o chegou a Dilma com anteced\u00eancia, diz ministro set([])\n",
        "Um ano ap\u00f3s nova lei, apenas 131 sistemas implantados"
       ]
      },
      {
       "output_type": "stream",
       "stream": "stdout",
       "text": [
        " set([])\n",
        "Sele\u00e7\u00e3o estrangeira"
       ]
      },
      {
       "output_type": "stream",
       "stream": "stdout",
       "text": [
        " set([])\n",
        "Bolsa de S\u00e3o Paulo: Ibovespa abre em baixa de 0,16%"
       ]
      },
      {
       "output_type": "stream",
       "stream": "stdout",
       "text": [
        " set([u'Neg\\xf3cios E Finan\\xe7as', u'Economia', u'Mercados E Bolsas', u'Bolsa S\\xe3o Paulo Abertura', u'Bolsa De Valores'])\n",
        "A conta de padeiro da m\u00e1fia do ISS"
       ]
      },
      {
       "output_type": "stream",
       "stream": "stdout",
       "text": [
        " set([u'm\\xe1fia do ISS', u'Desenvolvimento', u'Internacional', u'Economia', u'corrup\\xe7\\xe3o na prefeitura de S\\xe3o Paulo', u'Sa\\xfade', u'Pol\\xedtica', u'Movimentos sociais', u'Reforma Pol\\xedtica', u'Hist\\xf3ria'])\n",
        "Alemanha v\u00ea queda no super\u00e1vit comercial de outubro"
       ]
      },
      {
       "output_type": "stream",
       "stream": "stdout",
       "text": [
        " set([])\n",
        "Not\u00edcias do Governo do Estado de Minas Gerais"
       ]
      },
      {
       "output_type": "stream",
       "stream": "stdout",
       "text": [
        " set([])\n",
        "GOVERNO MUNICIPAL ASSINA CONV\u00caNIO QUE GARANTE R$ 10,6 MILH\u00d5ES PARA ASFALTAMENTO ~ Portal de Camaqu\u00e3: o canal de not\u00edcias mais atualizado da regi\u00e3oPortal de Camaqu\u00e3 / RS"
       ]
      },
      {
       "output_type": "stream",
       "stream": "stdout",
       "text": [
        " set([u'CAMAQU\\xc3', u'ASFALTO', u'NOT\\xcdCIAS', u'PREFEITURA DE CAMAQU\\xc3'])\n",
        "'Ningu\u00e9m olhou para isso', diz Mantega sobre rebaixamento do pa\u00eds set([])\n",
        "Acesso negado"
       ]
      },
      {
       "output_type": "stream",
       "stream": "stdout",
       "text": [
        " set([u'Economia', u'Cultura', u'Desenvolvimento', u'Pol\\xedtica'])\n",
        "RE: Nova democracia direta"
       ]
      },
      {
       "output_type": "stream",
       "stream": "stdout",
       "text": [
        " set([])\n",
        "FGV: menos ind\u00fastrias ampliar\u00e3o investimentos em 2014"
       ]
      },
      {
       "output_type": "stream",
       "stream": "stdout",
       "text": [
        " set([])\n",
        "ISTO\u00c9 Dinheiro"
       ]
      },
      {
       "output_type": "stream",
       "stream": "stdout",
       "text": [
        " set([])\n",
        "Brasil tem o pior crescimento do G20 no 3\u00ba tri"
       ]
      },
      {
       "output_type": "stream",
       "stream": "stdout",
       "text": [
        " set([])\n",
        "PIB cearense supera nacional - n\u00fameros ser\u00e3o divulgados nesta ter\u00e7a-feira (10) set([])\n",
        "Desenvolvimento da Produ\u00e7\u00e3o  Not\u00edcias: Ministra interina do MDIC abre 6\u00aa CBAPL destacando import\u00e2ncia econ\u00f4mica regional dos APLs"
       ]
      },
      {
       "output_type": "stream",
       "stream": "stdout",
       "text": [
        " set([])\n",
        "Banco Votorantim assume d\u00edvida da OSX com BNDES"
       ]
      },
      {
       "output_type": "stream",
       "stream": "stdout",
       "text": [
        " set([u'OSX', u'Indicadores', u'BNDES', u'Mercados', u'Pol\\xedtica', u'empresas X', u'Economia', u'Eike Batista', u'Com\\xe9rcio exterior', u'Consumidor', u'Banco Votorantim', u'Neg\\xf3cios'])\n",
        "Leil\u00e3o de Confins \"coroou\" trabalho do governo de Minas, diz tucano"
       ]
      },
      {
       "output_type": "stream",
       "stream": "stdout",
       "text": [
        " set([])\n",
        "Para Mantega, alta de pre\u00e7os \u00e9 'passageira' e PIB ficar\u00e1 perto de 2013 set([])\n",
        "Depois de satanizar privatiza\u00e7\u00f5es, agora Dilma diz que p\u00e1is precisa delas em ferrovias"
       ]
      },
      {
       "output_type": "stream",
       "stream": "stdout",
       "text": [
        " set([u'.justi\\xe7a', u'.Olinda', u'.Justi\\xe7a', u'.Educa\\xe7\\xe3o', u'.Lula', u'.Imagens', u'.Recife', u'.Esportes', u'.Futebol', u'.pol\\xedtica'])\n",
        "!!!>  Unicode strings with encoding declaration are not supported. Please use bytes input or XML fragments without declaration.\n",
        "Em busca de economia, Interlegis deve privilegiar cursos a dist\u00e2ncia \u2014 Senado Federal"
       ]
      },
      {
       "output_type": "stream",
       "stream": "stdout",
       "text": [
        " set([])\n",
        "Um Rio de Janeiro dividido, for\u00e7ando os limites para chegar ao mundo"
       ]
      },
      {
       "output_type": "stream",
       "stream": "stdout",
       "text": [
        " set([])\n",
        "10 motivos para o Opera ser o melhor navegador que existe set([u'Opera', u'In\\xedcio'])\n",
        "PMI mostra que economia perde f\u00f4lego, avalia ABC Brasil"
       ]
      },
      {
       "output_type": "stream",
       "stream": "stdout",
       "text": [
        " set([])\n",
        "Desempenho do PIB foi afetado por revis\u00e3o de metodologia, diz Mantega"
       ]
      },
      {
       "output_type": "stream",
       "stream": "stdout",
       "text": [
        " set([])\n",
        "- rjryivv F\u00f3rum INFO"
       ]
      },
      {
       "output_type": "stream",
       "stream": "stdout",
       "text": [
        " set([])\n",
        "Iniciativa \u201930 maneiras em 30 dias\u2019: Em busca de uma economia global verde"
       ]
      },
      {
       "output_type": "stream",
       "stream": "stdout",
       "text": [
        " set([u'Henrique Cortez', u'polui\\xe7\\xe3o', u'sa\\xfade', u'C\\xf3digo Florestal-floresta zero', u'agrot\\xf3xicos', u'entrevista', u'economia', u'lixo', u'legisla\\xe7\\xe3o ambiental', u'agricultura', u'desmatamento', u'\\xedndice', u'modelo de desenvolvimento', u'Conven\\xe7\\xe3o do Clima', u'urbaniza\\xe7\\xe3o', u'hidrel\\xe9tricas', u'energia', u'crise ambiental', u'sociedade', u'desenvolvimento sustent\\xe1vel', u'conserva\\xe7\\xe3o', u'movimentos sociais', u'MP', u'reflex\\xe3o', u'consumo & consumismo', u'biocombust\\xedveis', u'terras ind\\xedgenas', u'Amaz\\xf4nia', u'pesquisa', u'\\xe1gua', u'Rio+20', u'ind\\xedgenas', u'governo', u'energia nuclear', u'trabalho escravo', u'CO2', u'licenciamento ambiental', u'pol\\xedticas p\\xfablicas', u'educa\\xe7\\xe3o', u'Belo Monte', u'IBAMA', u'contamina\\xe7\\xe3o', u'mudan\\xe7as clim\\xe1ticas', u'desastres naturais', u'aquecimento global'])\n",
        "!!!>  Unicode strings with encoding declaration are not supported. Please use bytes input or XML fragments without declaration.\n",
        "Meta inflacion\u00e1ria do Jap\u00e3o \u00e9 ambiciosa, diz Kuroda"
       ]
      },
      {
       "output_type": "stream",
       "stream": "stdout",
       "text": [
        " set([])\n",
        "A revolu\u00e7\u00e3o digital dos pagamentos"
       ]
      },
      {
       "output_type": "stream",
       "stream": "stdout",
       "text": [
        " set([])\n",
        "O que esperar de 2014?"
       ]
      },
      {
       "output_type": "stream",
       "stream": "stdout",
       "text": [
        " set([u'.justi\\xe7a', u'.Olinda', u'.Justi\\xe7a', u'.Educa\\xe7\\xe3o', u'.Lula', u'.Imagens', u'.Recife', u'.Esportes', u'.Futebol', u'.pol\\xedtica'])\n",
        "Espanha espera registrar super\u00e1vit prim\u00e1rio em 2015"
       ]
      },
      {
       "output_type": "stream",
       "stream": "stdout",
       "text": [
        " set([])\n",
        "Dilma quer contratar at\u00e9 o fim de dezembro mais 700 mil moradias no Minha Casa, Minha Vida"
       ]
      },
      {
       "output_type": "stream",
       "stream": "stdout",
       "text": [
        " set([])\n",
        "Sindicalista e deputado criticam politiza\u00e7\u00e3o do debate sobre energia"
       ]
      },
      {
       "output_type": "stream",
       "stream": "stdout",
       "text": [
        " set([])\n",
        "Hospital Nossa Senhora da Concei\u00e7\u00e3o, de Porto Alegre, ser\u00e1 executado por precat\u00f3rio set([])\n",
        "Exporta\u00e7\u00e3o da China em novembro supera previs\u00f5es"
       ]
      },
      {
       "output_type": "stream",
       "stream": "stdout",
       "text": [
        " set([])\n",
        "Setor de seguros crescer\u00e1 17% em 2014, prev\u00ea SulAmerica"
       ]
      },
      {
       "output_type": "stream",
       "stream": "stdout",
       "text": [
        " set([])\n",
        "Professores apoiam protestos de estudantes contra teorias que ignoram crise financeira"
       ]
      },
      {
       "output_type": "stream",
       "stream": "stdout",
       "text": [
        " set([u'Mercados', u'crise financeira', u'estudo de economia neocl\\xe1ssica', u'estudantes de economia', u'Desenvolvimento', u'Internacional', u'Economia', u'Energia', u'Pol\\xedtica Fiscal', u'Cultura', u'Pol\\xedtica', u'Com\\xe9rcio exterior'])\n",
        "Ainda n\u00e3o temos defla\u00e7\u00e3o na zona do euro, diz Noyer"
       ]
      },
      {
       "output_type": "stream",
       "stream": "stdout",
       "text": [
        " set([])\n",
        "Historiador v\u00ea PT no poder como \u00b4d\u00e9cada perdida`"
       ]
      },
      {
       "output_type": "stream",
       "stream": "stdout",
       "text": [
        " set([u'.justi\\xe7a', u'.Olinda', u'.Justi\\xe7a', u'.Educa\\xe7\\xe3o', u'.Lula', u'.Imagens', u'.Recife', u'.Esportes', u'.Futebol', u'.pol\\xedtica'])\n",
        "Empresas devem aumentar sal\u00e1rio-base, diz Kuroda"
       ]
      },
      {
       "output_type": "stream",
       "stream": "stdout",
       "text": [
        " set([])\n",
        "!!!>  Unicode strings with encoding declaration are not supported. Please use bytes input or XML fragments without declaration.\n",
        "Com\u00e9rcio e Servi\u00e7os  Not\u00edcias: Com\u00e9rcio e servi\u00e7os s\u00e3o mapeados em todo pa\u00eds set([])\n",
        "En la campa\u00f1a, Dilma tendr\u00e1 que hablar de c\u00f3mo mejorar la econom\u00eda, afirma Lula"
       ]
      },
      {
       "output_type": "stream",
       "stream": "stdout",
       "text": [
        " set([])\n",
        "Funda\u00e7\u00e3o Biblioteca Nacional abre concurso p\u00fablico de n\u00edvel superior \u2014 Portal Brasil"
       ]
      },
      {
       "output_type": "stream",
       "stream": "stdout",
       "text": [
        " set([u'Concurso', u'Funda\\xe7\\xe3o', u'Biblioteca Nacional', u'Cultura'])\n",
        "Alexandre Vidal Porto"
       ]
      },
      {
       "output_type": "stream",
       "stream": "stdout",
       "text": [
        " set([])\n",
        "Semp Toshiba fecha f\u00e1brica de inform\u00e1tica na Bahia"
       ]
      },
      {
       "output_type": "stream",
       "stream": "stdout",
       "text": [
        " set([])\n",
        "Porto Digiral lan\u00e7a primeira aceleradora de startups do Recife em semin\u00e1rio com presidente do BNDES"
       ]
      },
      {
       "output_type": "stream",
       "stream": "stdout",
       "text": [
        " set([u'.justi\\xe7a', u'.Olinda', u'.Justi\\xe7a', u'.Educa\\xe7\\xe3o', u'.Lula', u'.Imagens', u'.Recife', u'.Esportes', u'.Futebol', u'.pol\\xedtica'])\n",
        "Papa critica \"economia da exclus\u00e3o e da desigual\u00addade social\""
       ]
      },
      {
       "output_type": "stream",
       "stream": "stdout",
       "text": [
        " set([u'Economia', u'papa', u'Cultura', u'Pol\\xedtica'])\n",
        "Neg\u00f3cios particulares s\u00e3o exclu\u00eddos de nova lei de investimentos cubana set([])\n",
        "Mantega atribui resultado negativo do PIB \u00e0 sazonalidade da agropecu\u00e1ria \u2014 CartaCapital"
       ]
      },
      {
       "output_type": "stream",
       "stream": "stdout",
       "text": [
        " set([u'PIB', u'Guido Mantega'])\n",
        "O sabonete que salva a sua pele literalmente"
       ]
      },
      {
       "output_type": "stream",
       "stream": "stdout",
       "text": [
        " set([u'lux', u'sabonete', u'Baden-W\\xfcrttemberg', u'suspense', u'terror', u'criatividade'])\n",
        "Folha de S.Paulo"
       ]
      },
      {
       "output_type": "stream",
       "stream": "stdout",
       "text": [
        " set([])\n",
        "Decreto de Dilma exige uso de e-mail pr\u00c3\u00b3prio pelo do governo contra espionagem"
       ]
      },
      {
       "output_type": "stream",
       "stream": "stdout",
       "text": [
        " set([])\n",
        "Mais est\u00e1veis, vizinhos da Venezuela atraem investidores"
       ]
      },
      {
       "output_type": "stream",
       "stream": "stdout",
       "text": [
        " set([])\n",
        "PIB do Cear\u00e1 cresce 3,76% no terceiro trimestre set([])\n",
        "aumenta o entreguismo e a repress\u00e3o"
       ]
      },
      {
       "output_type": "stream",
       "stream": "stdout",
       "text": [
        " set([])\n",
        "extraordin\u00e1ria jornada de lutas set([])\n",
        "C\u00e2mara exalta democracia"
       ]
      },
      {
       "output_type": "stream",
       "stream": "stdout",
       "text": [
        " set([])\n",
        "UE reduz perspectivas de crescimento em 2014, mas destaca \"ponto de virada\" para zona do euro"
       ]
      },
      {
       "output_type": "stream",
       "stream": "stdout",
       "text": [
        " set([])\n",
        "Comerciantes no PA sofrem impactos com a queda da ponte do rio Moju set([])\n",
        "Leitora ironiza cr\u00edticos que dizem que o pa\u00eds est\u00e1 em crise"
       ]
      },
      {
       "output_type": "stream",
       "stream": "stdout",
       "text": [
        " set([])\n",
        "Problemas econ\u00f4micos do Ir\u00e3 v\u00e3o al\u00e9m de san\u00e7\u00f5es, diz presidente"
       ]
      },
      {
       "output_type": "stream",
       "stream": "stdout",
       "text": [
        " set([])\n",
        "Armando o time"
       ]
      },
      {
       "output_type": "stream",
       "stream": "stdout",
       "text": [
        " set([])\n",
        "Dieese: reajuste com ganho real deve se manter em 2014"
       ]
      },
      {
       "output_type": "stream",
       "stream": "stdout",
       "text": [
        " set([])\n",
        "PMI da China e dados na Europa levantam bolsas mundiais; Yellen anima investidores"
       ]
      },
      {
       "output_type": "stream",
       "stream": "stdout",
       "text": [
        " set([])\n",
        "Faturamento da ind\u00fastria cresce 6% em fevereiro, diz CNI set([])\n",
        "Ministros Mantega e Osborne lan\u00e7am Di\u00e1logo Econ\u00f4mico e Financeiro entre o Brasil e o Reino Unido \u2014 Minist\u00e9rio da Fazenda"
       ]
      },
      {
       "output_type": "stream",
       "stream": "stdout",
       "text": [
        " set([])\n",
        "Chefe do gabinete de Mantega diz que deixar\u00e1 cargo"
       ]
      },
      {
       "output_type": "stream",
       "stream": "stdout",
       "text": [
        " set([])\n",
        "Banco do Brasil tem lucro recorde de R$ 12,2 bilh\u00f5es em 2012"
       ]
      },
      {
       "output_type": "stream",
       "stream": "stdout",
       "text": [
        " set([u'Macroeconomia', u'Economia', u'Neg\\xf3cios E Finan\\xe7as', u'Brasil Bancos', u'Bancos Centrais'])\n",
        "Sustentabilidade"
       ]
      },
      {
       "output_type": "stream",
       "stream": "stdout",
       "text": [
        " set([])\n",
        "The resource cannot be found. set([])\n",
        "Armando Monteiro Neto volta a fazer cr\u00edticas ao governo Eduardo e sugere que ciclo do PSDB encerrou-se"
       ]
      },
      {
       "output_type": "stream",
       "stream": "stdout",
       "text": [
        " set([u'.justi\\xe7a', u'.Olinda', u'.Justi\\xe7a', u'.Educa\\xe7\\xe3o', u'.Lula', u'.Imagens', u'.Recife', u'.Esportes', u'.Futebol', u'.pol\\xedtica'])\n",
        "!!!>  Unicode strings with encoding declaration are not supported. Please use bytes input or XML fragments without declaration.\n",
        "'Situa\u00e7\u00e3o fiscal n\u00e3o pode ser subestimada', diz Holland"
       ]
      },
      {
       "output_type": "stream",
       "stream": "stdout",
       "text": [
        " set([])\n",
        "Medidas econ\u00f4micas t\u00eam claro objetivo pol\u00edtico na Venezuela"
       ]
      },
      {
       "output_type": "stream",
       "stream": "stdout",
       "text": [
        " set([])\n",
        "Mauro Santayana: Reflex\u00f5es sobre o golpe de 1964"
       ]
      },
      {
       "output_type": "stream",
       "stream": "stdout",
       "text": [
        " set([])\n",
        "Mantega acredita que economia freou no terceiro trimestre"
       ]
      },
      {
       "output_type": "stream",
       "stream": "stdout",
       "text": [
        " set([])\n",
        "Mercado prev\u00ea resultado fraco para o PIB do 3\u00ba trimestre"
       ]
      },
      {
       "output_type": "stream",
       "stream": "stdout",
       "text": [
        " set([])\n",
        "FMI defende que BCE deve afrouxar pol\u00edtica monet\u00e1ria"
       ]
      },
      {
       "output_type": "stream",
       "stream": "stdout",
       "text": [
        " set([])\n",
        "Resultado do leil\u00e3o da BR-163 \u00e9 'boa not\u00edcia', afirma Dilma"
       ]
      },
      {
       "output_type": "stream",
       "stream": "stdout",
       "text": [
        " set([u'Esportes', u'concess\\xf5es de rodovias', u'Desenvolvimento', u'Internacional', u'Infraestrutura', u'Pol\\xedtica Fiscal', u'Cultura', u'Pol\\xedtica'])\n",
        "Hoje \u00e9 o dia 28 de novembro, quinta-feira."
       ]
      },
      {
       "output_type": "stream",
       "stream": "stdout",
       "text": [
        " set([u'Hist\\xf3ria'])\n",
        "Inaugurado o Shopping Pelotas"
       ]
      },
      {
       "output_type": "stream",
       "stream": "stdout",
       "text": [
        " set([u'Pelotas'])\n",
        "Collor tem seu retrato colocado na galeria de ex-presidentes da CRE \u2014 Senado Federal"
       ]
      },
      {
       "output_type": "stream",
       "stream": "stdout",
       "text": [
        " set([])\n",
        "P\u00e1gina 13  Catadores: A Rede Minuano set([])\n",
        "Nobel de Economia v\u00ea risco de recess\u00e3o global em 2014"
       ]
      },
      {
       "output_type": "stream",
       "stream": "stdout",
       "text": [
        " set([])\n",
        "Iata: Pa\u00eds deve ser 3\u00ba maior mercado a\u00e9reo dom\u00e9stico"
       ]
      },
      {
       "output_type": "stream",
       "stream": "stdout",
       "text": [
        " set([])\n",
        "Contrato de Pasadena foi enviado 15 dias antes, diz advogado de Cerver\u00f3 set([])\n",
        "BNDES prev\u00ea desembolsos de R$ 190 bilh\u00f5es em 2013"
       ]
      },
      {
       "output_type": "stream",
       "stream": "stdout",
       "text": [
        " set([])\n",
        "Cooperativismo em Revista :. Centro de Economia Solid\u00e1ria \u00e9 inaugurado em Piripiri"
       ]
      },
      {
       "output_type": "stream",
       "stream": "stdout",
       "text": [
        " set([])\n",
        "Focus reduz previs\u00e3o de infla\u00e7\u00e3o em 2013"
       ]
      },
      {
       "output_type": "stream",
       "stream": "stdout",
       "text": [
        " set([])\n",
        "Aumenta percep\u00e7\u00e3o sobre a corrup\u00e3o no Brasil"
       ]
      },
      {
       "output_type": "stream",
       "stream": "stdout",
       "text": [
        " set([])\n",
        "Desenvolvimento da Produ\u00e7\u00e3o  Not\u00edcias: Secret\u00e1rio de Inova\u00e7\u00e3o do MDIC detalha programa InovAtiva em Confer\u00eancia de APLs"
       ]
      },
      {
       "output_type": "stream",
       "stream": "stdout",
       "text": [
        " set([])\n",
        "Ucr\u00e2nia: PM apresenta or\u00e7amento de importantes cortes e aumento de impostos"
       ]
      },
      {
       "output_type": "stream",
       "stream": "stdout",
       "text": [
        " set([])\n",
        "O Minist\u00e9rio  Not\u00edcias: Miss\u00e3o empresarial \u00e0 Arg\u00e9lia gera expectativa de R$ 1,5 milh\u00e3o em neg\u00f3cios"
       ]
      },
      {
       "output_type": "stream",
       "stream": "stdout",
       "text": [
        " set([])\n",
        "Jucepa completa 137 anos de funda\u00e7\u00e3o e faz homenagens set([])\n",
        "Paim elogia a\u00e7\u00e3o do governo pelo fim de embargo argentino a produtos ga\u00fachos \u2014 Senado Federal"
       ]
      },
      {
       "output_type": "stream",
       "stream": "stdout",
       "text": [
        " set([])\n",
        "BoJ adotar\u00e1 medidas adequadas se necess\u00e1rias, diz Abe"
       ]
      },
      {
       "output_type": "stream",
       "stream": "stdout",
       "text": [
        " set([])\n",
        "Cooperativismo em Revista :. Cooperativas Cresol participam do II Semin\u00e1rio Nacional do Cooperativismo de Cr\u00e9dito Solid\u00e1rio"
       ]
      },
      {
       "output_type": "stream",
       "stream": "stdout",
       "text": [
        " set([])\n",
        "STF come\u00e7ar\u00e1 a julgar tunga da banca"
       ]
      },
      {
       "output_type": "stream",
       "stream": "stdout",
       "text": [
        " set([])\n",
        "403 Forbidden set([])\n",
        "Integra\u00c3\u00a7\u00c3\u00a3o Educacional: Educa\u00c3\u00a7\u00c3\u00a3o Superior e Legisla\u00c3\u00a7\u00c3\u00a3o do Mercosul"
       ]
      },
      {
       "output_type": "stream",
       "stream": "stdout",
       "text": [
        " set([])\n",
        "Consumo das fam\u00edlias melhora e ajuda Espanha a sair da recess\u00e3o"
       ]
      },
      {
       "output_type": "stream",
       "stream": "stdout",
       "text": [
        " set([])\n",
        "China vai flexibilizar pol\u00edtica do filho \u00fanico"
       ]
      },
      {
       "output_type": "stream",
       "stream": "stdout",
       "text": [
        " set([u'Agroneg\\xf3cio', u'Desenvolvimento', u'Am\\xe9rica Latina', u'Internacional', u'filho \\xfanico', u'China', u'Partido Comunista', u'Pol\\xedtica', u'An\\xe1lise', u'reformas', u'Cultura'])\n",
        "Presidentes ucraniano e russo re\u00fanem-se na R\u00fassia"
       ]
      },
      {
       "output_type": "stream",
       "stream": "stdout",
       "text": [
        " set([])\n",
        "Os setores ligados ao capital e a cria\u00e7\u00e3o de sentimento oposicionista"
       ]
      },
      {
       "output_type": "stream",
       "stream": "stdout",
       "text": [
        " set([u'pol\\xedtica econ\\xf4mica e elei\\xe7\\xf5es', u'Cidadania', u'Direitos humanos', u'perspectivas 2014', u'M\\xeddia', u'agenda pol\\xedtica para 2014', u'Pol\\xedtica', u'An\\xe1lise', u'Am\\xe9rica Latina', u'elei\\xe7\\xf5es'])\n",
        "Mantega culpa 2\u00ba trimestre pelo PIB ruim no terceiro"
       ]
      },
      {
       "output_type": "stream",
       "stream": "stdout",
       "text": [
        " set([])\n",
        "Sustentabilidade"
       ]
      },
      {
       "output_type": "stream",
       "stream": "stdout",
       "text": [
        " set([])\n",
        "Yellen defende fortemente pol\u00edticas expansionistas do Fed"
       ]
      },
      {
       "output_type": "stream",
       "stream": "stdout",
       "text": [
        " set([])\n",
        "Dinheiro P\u00fablico & Cia: 4 li\u00e7\u00f5es da semana sobre a economia e a elei\u00e7\u00e3o"
       ]
      },
      {
       "output_type": "stream",
       "stream": "stdout",
       "text": [
        " set([])\n",
        "Editorial: Decolar as concess\u00f5es"
       ]
      },
      {
       "output_type": "stream",
       "stream": "stdout",
       "text": [
        " set([])\n",
        "Economista-chefe da Austin explica queda de investimentos no 3\u00ba trimestre"
       ]
      },
      {
       "output_type": "stream",
       "stream": "stdout",
       "text": [
        " set([])\n",
        "JEWAY JM1270 Portable USB 2.0 2.4GHz 800/1200 / 1600dpi Mouse"
       ]
      },
      {
       "output_type": "stream",
       "stream": "stdout",
       "text": [
        " set([])\n",
        "Oposi\u00e7\u00e3o avalia queda PIB como falta de planejamento"
       ]
      },
      {
       "output_type": "stream",
       "stream": "stdout",
       "text": [
        " set([])\n",
        "S&P 500 fecha na m\u00e1xima hist\u00f3rica ap\u00f3s dados industriais dos EUA"
       ]
      },
      {
       "output_type": "stream",
       "stream": "stdout",
       "text": [
        " set([])\n",
        "Pilotos da Lufthansa iniciam greve de tr\u00eas dias por aposentadoria set([])\n",
        "Desenvolvimento da Produ\u00e7\u00e3o  Not\u00edcias: Para Pimentel, momento hist\u00f3rico favorece foco na competitividade nacional"
       ]
      },
      {
       "output_type": "stream",
       "stream": "stdout",
       "text": [
        " set([])\n",
        "Mestrado em Neg\u00c3\u00b3cios Internacionais (UCES)"
       ]
      },
      {
       "output_type": "stream",
       "stream": "stdout",
       "text": [
        " set([])\n",
        "Interna\u00e7\u00e3o de Amari n\u00e3o afeta acordo da TPP, diz Suga"
       ]
      },
      {
       "output_type": "stream",
       "stream": "stdout",
       "text": [
        " set([])\n",
        "Falta de perspectivas pode isolar Brasil comercialmente"
       ]
      },
      {
       "output_type": "stream",
       "stream": "stdout",
       "text": [
        " set([u'acordo comercial', u'brasil', u'Meio Ambiente', u'Crise', u'Cidadania', u'Mercosul', u'EUA', u'Desenvolvimento', u'Energia', u'Economia', u'Mercados', u'com\\xe9rcio exterior', u'Cultura', u'Juliana Damasceno', u'UE'])\n",
        "The resource cannot be found. set([])\n",
        "Passagem do circular, em Pelotas, ir\u00e1 para R$ 2,75"
       ]
      },
      {
       "output_type": "stream",
       "stream": "stdout",
       "text": [
        " set([u'transporte coletivo'])\n",
        "Acesso negado set([u'Economia', u'Cultura', u'Desenvolvimento', u'Pol\\xedtica'])\n"
       ]
      },
      {
       "output_type": "stream",
       "stream": "stdout",
       "text": [
        "A escala\u00e7\u00e3o do p\u00fablico set([])\n",
        "Historiador v\u00ea PT no poder como 'd\u00e9cada perdida'"
       ]
      },
      {
       "output_type": "stream",
       "stream": "stdout",
       "text": [
        " set([])\n",
        "Boa Vista: inadimpl\u00eancia de consumidor cresce 2,3%"
       ]
      },
      {
       "output_type": "stream",
       "stream": "stdout",
       "text": [
        " set([])\n",
        "Est\u00edmulo do Fed \u00e9 \"subs\u00eddio aos bancos\", diz Fisher"
       ]
      },
      {
       "output_type": "stream",
       "stream": "stdout",
       "text": [
        " set([])\n",
        "Cai interesse em cr\u00e9dito entre paulistanos em mar\u00e7o, diz pesquisa set([])\n",
        "Fronteira evidencia distor\u00e7\u00f5es da economia da Venezuela"
       ]
      },
      {
       "output_type": "stream",
       "stream": "stdout",
       "text": [
        " set([])\n",
        "BATKNIGHT Santo Bat S3200 ESports 400-4000dpi colorido Glare USB Wired Gaming Mouse"
       ]
      },
      {
       "output_type": "stream",
       "stream": "stdout",
       "text": [
        " set([])\n",
        "Discurso de Yellen refor\u00e7a dia positivo e Ibovespa sobe cerca de 1%"
       ]
      },
      {
       "output_type": "stream",
       "stream": "stdout",
       "text": [
        " set([])\n",
        "An\u00e1lise: A Venezuela n\u00e3o \u00e9 a Gr\u00e9cia e sua economia n\u00e3o vai implodir"
       ]
      },
      {
       "output_type": "stream",
       "stream": "stdout",
       "text": [
        " set([])\n",
        "Lan\u00e7ada Rede e C\u00e1tedra Unesco em Economia Global e Desenvolvimento Sustent\u00e1vel set([])\n",
        "Bolha Imobili\u00e1ria? texto de Ricardo Amorim \u00ab Cartas na Manga"
       ]
      },
      {
       "output_type": "stream",
       "stream": "stdout",
       "text": [
        " set([u'investimento', u'imoveis', u'bolha imobiliaria'])\n",
        "A vit\u00f3ria do empreendedorismo"
       ]
      },
      {
       "output_type": "stream",
       "stream": "stdout",
       "text": [
        " set([])\n",
        "Homem pede emprego em outdoor e consegue 250 ofertas"
       ]
      },
      {
       "output_type": "stream",
       "stream": "stdout",
       "text": [
        " set([])\n",
        "Obama n\u00e3o acredita em nova paralisa\u00e7\u00e3o em 2014"
       ]
      },
      {
       "output_type": "stream",
       "stream": "stdout",
       "text": [
        " set([])\n",
        "Sustentabilidade"
       ]
      },
      {
       "output_type": "stream",
       "stream": "stdout",
       "text": [
        " set([])\n",
        "Apesar de melhora na economia, desigualdade cresce na \u00c1frica do Sul"
       ]
      },
      {
       "output_type": "stream",
       "stream": "stdout",
       "text": [
        " set([u'Indicadores', u'Mercados', u'M\\xeddia', u'Gest\\xe3o Privada', u'apartheid', u'Pol\\xedtica', u'Economia', u'Nelson Mandela', u'Cidadania', u'\\xc1frica do Sul', u'Pol\\xedtica Monet\\xe1ria'])\n",
        "Produ\u00e7\u00e3o industrial da China sobe 10% em novembro"
       ]
      },
      {
       "output_type": "stream",
       "stream": "stdout",
       "text": [
        " set([])\n",
        "Renato Pompeu: A macroeconomia e os pilares da crise"
       ]
      },
      {
       "output_type": "stream",
       "stream": "stdout",
       "text": [
        " set([u'Indicadores', u'Mercados', u'Cidadania', u'Desenvolvimento', u'macroeconomia', u'Energia', u'Cultura', u'Pol\\xedtica', u'Neg\\xf3cios', u'crise econ\\xf4mica'])\n",
        "Investimentos federais recuam em outubro e novembro"
       ]
      },
      {
       "output_type": "stream",
       "stream": "stdout",
       "text": [
        " set([])\n",
        "Servi\u00e7os e royalties aumentaram a receita dos munic\u00edpios fluminenses em 2012"
       ]
      },
      {
       "output_type": "stream",
       "stream": "stdout",
       "text": [
        " set([])\n",
        "Armando Monteiro associa futuro de Pernambuco com chegada de investimentos federais"
       ]
      },
      {
       "output_type": "stream",
       "stream": "stdout",
       "text": [
        " set([u'.justi\\xe7a', u'.Olinda', u'.Justi\\xe7a', u'.Educa\\xe7\\xe3o', u'.Lula', u'.Imagens', u'.Recife', u'.Esportes', u'.Futebol', u'.pol\\xedtica'])\n",
        "Na Sauipe pobre, fam\u00edlias lamentam fim da estada da Fifa"
       ]
      },
      {
       "output_type": "stream",
       "stream": "stdout",
       "text": [
        " set([])\n",
        "Em audi\u00eancia na CI, convidados apontam benef\u00edcios da transposi\u00e7\u00e3o do S\u00e3o Francisco \u2014 Senado Federal"
       ]
      },
      {
       "output_type": "stream",
       "stream": "stdout",
       "text": [
        " set([])\n",
        "RE: INCLUIR NO ENSINO FUNDAMENTAL: PARTICIPA\u00c7\u00c3O POL\u00cdTICA E CIDADANIA"
       ]
      },
      {
       "output_type": "stream",
       "stream": "stdout",
       "text": [
        " set([])\n",
        "Constru\u00e7\u00e3o civil se recupera, mas setor crescer\u00e1 abaixo do PIB"
       ]
      },
      {
       "output_type": "stream",
       "stream": "stdout",
       "text": [
        " set([])\n",
        "Gasto com estudantes que faltaram ao Enem \u00e9 R$ 58 milh\u00f5es, diz Inep"
       ]
      },
      {
       "output_type": "stream",
       "stream": "stdout",
       "text": [
        " set([u'Enem'])\n",
        "Brasil quer todas as medidas de Bali implementadas logo"
       ]
      },
      {
       "output_type": "stream",
       "stream": "stdout",
       "text": [
        " set([])\n",
        "Especialistas esperam PIB morno em 2013"
       ]
      },
      {
       "output_type": "stream",
       "stream": "stdout",
       "text": [
        " set([])\n",
        "Crescimento do emprego privado e encomendas \u00e0 ind\u00fastria acelera nos EUA"
       ]
      },
      {
       "output_type": "stream",
       "stream": "stdout",
       "text": [
        " set([])\n",
        "O campo de Franco e a capitaliza\u00e7\u00e3o da Petrobras"
       ]
      },
      {
       "output_type": "stream",
       "stream": "stdout",
       "text": [
        " set([u'explora\\xe7\\xe3o de petr\\xf3leo', u'Sa\\xfade', u'Sustentabilidade', u'Na Rede', u'Economia', u'Energia', u'Cultura', u'Ci\\xeancia', u'Pol\\xedtica', u'campo de Franco', u'Petrobras'])\n",
        "Servi\u00e7os e royalties aumentaram a receita dos munic\u00edpios fluminenses em 2012"
       ]
      },
      {
       "output_type": "stream",
       "stream": "stdout",
       "text": [
        " set([])\n",
        "Com\u00e9rcio e Servi\u00e7os  Not\u00edcias: Iniciativas para o com\u00e9rcio s\u00e3o debatidas em Bras\u00edlia"
       ]
      },
      {
       "output_type": "stream",
       "stream": "stdout",
       "text": [
        " set([])\n",
        "O Minist\u00e9rio  Not\u00edcias: Schaefer garante compromisso com prorroga\u00e7\u00e3o da Zona Franca"
       ]
      },
      {
       "output_type": "stream",
       "stream": "stdout",
       "text": [
        " set([])\n",
        "CVC prepara IPO de at\u00e9 R$ 1 bilh\u00e3o"
       ]
      },
      {
       "output_type": "stream",
       "stream": "stdout",
       "text": [
        " set([])\n",
        "Todos os or\u00e7amentos ser\u00e3o de TI, projeta Gartner"
       ]
      },
      {
       "output_type": "stream",
       "stream": "stdout",
       "text": [
        " set([u'tecnologia', u'Pesquisa', u'cisco', u'treinamento', u'Programa de canal', u'aplicativos', u'Alian\\xe7as', u'estrat\\xe9gias', u'Servi\\xe7os', u'Redes', u'aquisi\\xe7\\xf5es', u'PCs', u'parcerias', u'Balan\\xe7o', u'Estrat\\xe9gia', u'Profissionais', u'Investimentos', u'internet', u'SAP', u'Mobilidade', u'Vaiv\\xe9m', u'impressoras', u'hp', u'ti', u'carreira', u'Varejo', u'Microsoft', u'Distribui\\xe7\\xe3o', u'ibm', u'Telecom', u'cloud computing', u'Converg\\xeancia', u'Fus\\xe3o e aquisi\\xe7\\xe3o', u'neg\\xf3cios', u'seguran\\xe7a'])\n",
        "Desnacionaliza\u00e7\u00e3o galopante set([])\n",
        "Atraso na obra da transposi\u00e7\u00e3o causa perda a empresas"
       ]
      },
      {
       "output_type": "stream",
       "stream": "stdout",
       "text": [
        " set([])\n",
        "O debate sobre a macroeconomia brasileira"
       ]
      },
      {
       "output_type": "stream",
       "stream": "stdout",
       "text": [
        " set([u'Internacional', u'Neg\\xf3cios', u'Indicadores', u'Marcos Lisboa', u'M\\xe1rcio Holland', u'Desenvolvimento', u'macroeconomia', u'Telecomunica\\xe7\\xf5es', u'Cultura', u'Pol\\xedtica', u'Mansueto de Almeida', u'Am\\xe9rica Latina'])\n",
        "Impacto da Copa do Mundo na economia brasileira ser\u00e1 praticamente nulo, diz Moody's"
       ]
      },
      {
       "output_type": "stream",
       "stream": "stdout",
       "text": [
        " set([])\n",
        "Flexa Ribeiro registra encontro do PSDB em Bel\u00e9m com presen\u00e7a de A\u00e9cio \u2014 Senado Federal"
       ]
      },
      {
       "output_type": "stream",
       "stream": "stdout",
       "text": [
        " set([])\n",
        "BC da Austr\u00e1lia mant\u00e9m taxa de juros em 2,5%"
       ]
      },
      {
       "output_type": "stream",
       "stream": "stdout",
       "text": [
        " set([])\n",
        "Com\u00e9rcio e Servi\u00e7os  Not\u00edcias: Simbracs: especialistas apontam desafios de inovar na \u00e1rea de servi\u00e7os"
       ]
      },
      {
       "output_type": "stream",
       "stream": "stdout",
       "text": [
        " set([])\n",
        "Dinheiro e Tecnologia"
       ]
      },
      {
       "output_type": "stream",
       "stream": "stdout",
       "text": [
        " set([])\n",
        "Os investimentos para as Copas de 2014 e 1950"
       ]
      },
      {
       "output_type": "stream",
       "stream": "stdout",
       "text": [
        " set([u'Copa do Mundo 2014', u'futebol', u'M\\xeddia', u'Cidadania', u'Economia', u'Ditadura', u'Sa\\xfade', u'Pol\\xedtica', u'Habita\\xe7\\xe3o', u'Movimentos sociais'])\n",
        "Dilma j\u00e1 lan\u00e7ou 23 pacotes, e PIB n\u00e3o reage"
       ]
      },
      {
       "output_type": "stream",
       "stream": "stdout",
       "text": [
        " set([])\n",
        "Banco central de Portugal prev\u00ea retorno ao crescimento em 2014"
       ]
      },
      {
       "output_type": "stream",
       "stream": "stdout",
       "text": [
        " set([])\n",
        "BC: Brasil est\u00e1 preparado para fim de est\u00edmulos dos EUA"
       ]
      },
      {
       "output_type": "stream",
       "stream": "stdout",
       "text": [
        " set([])\n",
        "Senadores e convidados divergem sobre interrup\u00e7\u00e3o da constru\u00e7\u00e3o de termonucleares no pa\u00eds \u2014 Senado Federal"
       ]
      },
      {
       "output_type": "stream",
       "stream": "stdout",
       "text": [
        " set([])\n",
        "Homem pede emprego em outdoor e consegue 250 ofertas"
       ]
      },
      {
       "output_type": "stream",
       "stream": "stdout",
       "text": [
        " set([])\n",
        "Economia crescer\u00e1 menos em 2014 na vis\u00e3o da Focus"
       ]
      },
      {
       "output_type": "stream",
       "stream": "stdout",
       "text": [
        " set([])\n",
        "Desemprego da RMR atinge 13,5%"
       ]
      },
      {
       "output_type": "stream",
       "stream": "stdout",
       "text": [
        " set([u'.justi\\xe7a', u'.Olinda', u'.Justi\\xe7a', u'.Educa\\xe7\\xe3o', u'.Lula', u'.Imagens', u'.Recife', u'.Esportes', u'.Futebol', u'.pol\\xedtica'])\n",
        "Grupo P\u00e3o de A\u00e7\u00facar continua na lideran\u00e7a no varejo brasileiro"
       ]
      },
      {
       "output_type": "stream",
       "stream": "stdout",
       "text": [
        " set([])\n",
        "Medicamento ter\u00e1 em 2013 novo recorde de vendas"
       ]
      },
      {
       "output_type": "stream",
       "stream": "stdout",
       "text": [
        " set([])\n",
        "Infla\u00e7\u00e3o da China deve subir em 2014, diz Citigroup"
       ]
      },
      {
       "output_type": "stream",
       "stream": "stdout",
       "text": [
        " set([])\n",
        "PMI mostra que economia perde f\u00f4lego, avalia ABC Brasil"
       ]
      },
      {
       "output_type": "stream",
       "stream": "stdout",
       "text": [
        " set([])\n",
        "Estoque menor j\u00e1 indica desconfian\u00e7a do com\u00e9rcio"
       ]
      },
      {
       "output_type": "stream",
       "stream": "stdout",
       "text": [
        " set([])\n",
        "BoJ n\u00e3o precisa de medidas adicionais, diz Suga"
       ]
      },
      {
       "output_type": "stream",
       "stream": "stdout",
       "text": [
        " set([])\n",
        "Tombini prev\u00ea crescimento em 2014 pr\u00f3ximo ao de 2013"
       ]
      },
      {
       "output_type": "stream",
       "stream": "stdout",
       "text": [
        " set([])\n",
        "Confian\u00e7a, uma caracter\u00edstica crucial para a qualquer economiaEpoch Times em Portugu\u00eas"
       ]
      },
      {
       "output_type": "stream",
       "stream": "stdout",
       "text": [
        " set([u'Francis Fukuyama', u'Gary North', u'livro', u'economia', u'confian\\xe7a', u'tese', u'liberdade', u'ordem social', u'Estado'])\n",
        "Infla\u00e7\u00e3o da China deve subir em 2014, diz Citigroup"
       ]
      },
      {
       "output_type": "stream",
       "stream": "stdout",
       "text": [
        " set([])\n",
        "Marco Aur\u00e9lio vai propor adiamento de a\u00e7\u00e3o sobre cadernetas de poupan\u00e7a"
       ]
      },
      {
       "output_type": "stream",
       "stream": "stdout",
       "text": [
        " set([])\n",
        "ISTO\u00c9 Independente"
       ]
      },
      {
       "output_type": "stream",
       "stream": "stdout",
       "text": [
        " set([])\n",
        "Mais detalhes sobre os futuros SoC Intel Atom SoFIA e Broxton"
       ]
      },
      {
       "output_type": "stream",
       "stream": "stdout",
       "text": [
        " set([u'soc', u'sofia', u'processador', u'intel', u'broxton'])\n",
        "Instituto Latino Americano de Educa\u00c3\u00a7\u00c3\u00a3o"
       ]
      },
      {
       "output_type": "stream",
       "stream": "stdout",
       "text": [
        " set([])\n",
        "As mudan\u00e7as provocadas pela hidrel\u00e9trica na regi\u00e3o de Furnas"
       ]
      },
      {
       "output_type": "stream",
       "stream": "stdout",
       "text": [
        " set([u'Furnas', u'Meio Ambiente', u'Inova\\xe7\\xe3o', u'Desenvolvimento', u'hidrel\\xe9tricas', u'Na Rede', u'Economia', u'Energia', u'Pol\\xedtica'])\n",
        "Not\u00edcias do Governo do Estado de Minas Gerais"
       ]
      },
      {
       "output_type": "stream",
       "stream": "stdout",
       "text": [
        " set([])\n",
        "Empresas do Jap\u00e3o est\u00e3o menos otimistas no 4\u00batri"
       ]
      },
      {
       "output_type": "stream",
       "stream": "stdout",
       "text": [
        " set([])\n",
        "Documento da Rede e do PSB critica dicotomia entre sustentabilidade e agroneg\u00f3cio"
       ]
      },
      {
       "output_type": "stream",
       "stream": "stdout",
       "text": [
        " set([u'.justi\\xe7a', u'.Olinda', u'.Justi\\xe7a', u'.Educa\\xe7\\xe3o', u'.Lula', u'.Imagens', u'.Recife', u'.Esportes', u'.Futebol', u'.pol\\xedtica'])\n",
        "403 Forbidden set([])\n",
        "Cen\u00e1rio ainda \u00e9 ruim para a ind\u00fastria, avalia a Icatu"
       ]
      },
      {
       "output_type": "stream",
       "stream": "stdout",
       "text": [
        " set([])\n",
        "N\u00f3s n\u00e3o temos raz\u00e3o"
       ]
      },
      {
       "output_type": "stream",
       "stream": "stdout",
       "text": [
        " set([])\n",
        "Para Fiesp, balan\u00e7a ter\u00e1 super\u00e1vit de US$ 16 bi em 2014"
       ]
      },
      {
       "output_type": "stream",
       "stream": "stdout",
       "text": [
        " set([])\n",
        "\u00cdndice de confian\u00e7a do com\u00e9rcio melhorou em outubro"
       ]
      },
      {
       "output_type": "stream",
       "stream": "stdout",
       "text": [
        " set([])\n",
        "Alta dos gastos afeta faturamento da ind\u00fastria pesada"
       ]
      },
      {
       "output_type": "stream",
       "stream": "stdout",
       "text": [
        " set([])\n",
        "IMERS\u00c3O \u00ab Distribuindo viagens set([])\n",
        "De volta ao mercado"
       ]
      },
      {
       "output_type": "stream",
       "stream": "stdout",
       "text": [
        " set([])\n",
        "Em discurso no Rio, Dilma destaca controle da infla\u00e7\u00e3o"
       ]
      },
      {
       "output_type": "stream",
       "stream": "stdout",
       "text": [
        " set([])\n",
        "\u00c9 hora de repensar as reformas"
       ]
      },
      {
       "output_type": "stream",
       "stream": "stdout",
       "text": [
        " set([u'Indicadores', u'Mercados', u'Luis Nassif', u'Cidadania', u'Ind\\xfastria', u'Economia', u'pol\\xedtica fiscal', u'Cultura', u'pol\\xedtica econ\\xf4mica', u'Pol\\xedtica', u'Gest\\xe3o P\\xfablica'])\n",
        "Blog de Jamildo"
       ]
      },
      {
       "output_type": "stream",
       "stream": "stdout",
       "text": [
        " set([u'.justi\\xe7a', u'.Olinda', u'.Justi\\xe7a', u'.Educa\\xe7\\xe3o', u'.Lula', u'.Imagens', u'.Recife', u'.Esportes', u'.Futebol', u'.pol\\xedtica'])\n",
        "quem s\u00e3o os verdadeiros beneficiados? set([])\n",
        "Os ricos entram em campo"
       ]
      },
      {
       "output_type": "stream",
       "stream": "stdout",
       "text": [
        " set([])\n",
        "Pequenos neg\u00f3cios geram 100% dos novos empregos no pa\u00eds \u00ab Colla no Blog"
       ]
      },
      {
       "output_type": "stream",
       "stream": "stdout",
       "text": [
        " set([])\n",
        "Veja repercuss\u00e3o da decis\u00e3o de elevar a Selic para 11% ao ano set([])\n",
        "Indefini\u00e7\u00e3o sobre futuro dos juros surpreende mercado"
       ]
      },
      {
       "output_type": "stream",
       "stream": "stdout",
       "text": [
        " set([])\n",
        "Por que Carlos Wizard vendeu o Grupo Multi (por ele mesmo)"
       ]
      },
      {
       "output_type": "stream",
       "stream": "stdout",
       "text": [
        " set([])\n",
        "Dia do Produtor do Tabaco \u00e9 comemorado em Santa Cruz do Sul"
       ]
      },
      {
       "output_type": "stream",
       "stream": "stdout",
       "text": [
        " set([u'fumicultura'])\n",
        "Enriquecimento de poucos, empobrecimento de muitos"
       ]
      },
      {
       "output_type": "stream",
       "stream": "stdout",
       "text": [
        " set([])\n",
        "TJPE vai implantar Processo Eletr\u00f4nico nas Varas de Executivos Fiscais da Capital"
       ]
      },
      {
       "output_type": "stream",
       "stream": "stdout",
       "text": [
        " set([u'.justi\\xe7a', u'.Olinda', u'.Justi\\xe7a', u'.Educa\\xe7\\xe3o', u'.Lula', u'.Imagens', u'.Recife', u'.Esportes', u'.Futebol', u'.pol\\xedtica'])\n",
        "PBoC vai expandir a banda de negocia\u00e7\u00e3o do yuan"
       ]
      },
      {
       "output_type": "stream",
       "stream": "stdout",
       "text": [
        " set([])\n",
        "Recupera\u00e7\u00e3o de verdade est\u00e1 come\u00e7ando, diz Carney"
       ]
      },
      {
       "output_type": "stream",
       "stream": "stdout",
       "text": [
        " set([])\n",
        "Nordeste em movimento"
       ]
      },
      {
       "output_type": "stream",
       "stream": "stdout",
       "text": [
        " set([])\n",
        "Cofre Bobble Head Tom & Jerry \u00ab Blog de Brinquedo"
       ]
      },
      {
       "output_type": "stream",
       "stream": "stdout",
       "text": [
        " set([u'Funko', u'TV', u'Cofre', u'Hanna-Barbera', u'Bobble-Head', u'Cartoon'])\n",
        "BNDES prev\u00ea desembolsos de R$ 190 bilh\u00f5es em 2013"
       ]
      },
      {
       "output_type": "stream",
       "stream": "stdout",
       "text": [
        " set([])\n",
        "OMC pede apoio do governo para retomada das negocia\u00e7\u00f5es da Rodada de Doha \u2014 Portal Brasil"
       ]
      },
      {
       "output_type": "stream",
       "stream": "stdout",
       "text": [
        " set([u'OMC', u'Governo federal', u'Organiza\\xe7\\xe3o Mundial do Com\\xe9rcio'])\n",
        "Sustentabilidade"
       ]
      },
      {
       "output_type": "stream",
       "stream": "stdout",
       "text": [
        " set([])\n",
        "Dilma cobra explica\u00e7\u00f5es de Mantega sobre previs\u00e3o do PIB"
       ]
      },
      {
       "output_type": "stream",
       "stream": "stdout",
       "text": [
        " set([u'Minist\\xe9rio da Fazenda', u'Cidadania', u'guido mantega', u'Internacional', u'M\\xeddia', u'Cultura', u'crescimento do PIB', u'Pol\\xedtica', u'Justi\\xe7a'])\n",
        "Ex-fraudador interpretado em filme por DiCaprio d\u00e1 dicas contra golpes set([])\n",
        "Dinheiro e Tecnologia"
       ]
      },
      {
       "output_type": "stream",
       "stream": "stdout",
       "text": [
        " set([])\n",
        "!!!>  Unicode strings with encoding declaration are not supported. Please use bytes input or XML fragments without declaration.\n",
        "Brasil foi o pior no G-20 no terceiro trimestre"
       ]
      },
      {
       "output_type": "stream",
       "stream": "stdout",
       "text": [
        " set([u'Brasil'])\n",
        "BC da Austr\u00e1lia mant\u00e9m taxa de juros em 2,5%"
       ]
      },
      {
       "output_type": "stream",
       "stream": "stdout",
       "text": [
        " set([])\n",
        "Panasonic v\u00ea a luz"
       ]
      },
      {
       "output_type": "stream",
       "stream": "stdout",
       "text": [
        " set([])\n",
        "Sustentabilidade"
       ]
      },
      {
       "output_type": "stream",
       "stream": "stdout",
       "text": [
        " set([])\n",
        "China e Europa devem influenciar preg\u00e3o global - Mercado Financeiro - Economia, Finan\u00e7as e Neg\u00f3cios"
       ]
      },
      {
       "output_type": "stream",
       "stream": "stdout",
       "text": [
        " set([])\n",
        "Iene se enfraquece ante d\u00f3lar ap\u00f3s discurso de Yellen"
       ]
      },
      {
       "output_type": "stream",
       "stream": "stdout",
       "text": [
        " set([])\n",
        "O mito da revolu\u00e7\u00e3o na Isl\u00e2ndia desmascarado set([])\n",
        "Hoje \u00e9 o \u00faltimo dia para pagar a anuidade de 2014 com valor mais baixo que o de 2013"
       ]
      },
      {
       "output_type": "stream",
       "stream": "stdout",
       "text": [
        " set([])\n",
        "Alemanha v\u00ea queda no super\u00e1vit comercial de outubro"
       ]
      },
      {
       "output_type": "stream",
       "stream": "stdout",
       "text": [
        " set([])\n",
        "O PIB sai da sombra"
       ]
      },
      {
       "output_type": "stream",
       "stream": "stdout",
       "text": [
        " set([])\n",
        "Mantega: alta de pre\u00e7os na Copa ser\u00e1 normal"
       ]
      },
      {
       "output_type": "stream",
       "stream": "stdout",
       "text": [
        " set([])\n",
        "Banda larga veloz \u00e9 essencial para o pa\u00eds, diz Dilma"
       ]
      },
      {
       "output_type": "stream",
       "stream": "stdout",
       "text": [
        " set([u'INFOStart', u'Investimentos', u'Governo Dilma'])\n",
        "Jap\u00e3o melhora avalia\u00e7\u00e3o sobre a economia"
       ]
      },
      {
       "output_type": "stream",
       "stream": "stdout",
       "text": [
        " set([])\n",
        "Economia italiana fica est\u00e1vel depois de dois anos de contra\u00e7\u00e3o"
       ]
      },
      {
       "output_type": "stream",
       "stream": "stdout",
       "text": [
        " set([])\n",
        "Aprovado projeto que exige apresenta\u00e7\u00e3o a juiz, em 24 horas, de preso em flagrante \u2014 Senado Federal"
       ]
      },
      {
       "output_type": "stream",
       "stream": "stdout",
       "text": [
        " set([])\n",
        "Instituto Latino Americano de Educa\u00c3\u00a7\u00c3\u00a3o"
       ]
      },
      {
       "output_type": "stream",
       "stream": "stdout",
       "text": [
        " set([])\n",
        "Alta dos gastos afeta faturamento da ind\u00fastria pesada"
       ]
      },
      {
       "output_type": "stream",
       "stream": "stdout",
       "text": [
        " set([])\n",
        "Bolsa do Ir\u00e3 dispara, sob governo moderado"
       ]
      },
      {
       "output_type": "stream",
       "stream": "stdout",
       "text": [
        " set([])\n",
        "- POR QUE O ROB\u00d4 NINO? F\u00f3rum INFO"
       ]
      },
      {
       "output_type": "stream",
       "stream": "stdout",
       "text": [
        " set([])\n",
        "Mantega diz que conta de luz ficar\u00e1 'um pouquinho maior' set([])\n",
        "Infla\u00e7\u00e3o anual ganha for\u00e7a no Brasil, aponta a OCDE"
       ]
      },
      {
       "output_type": "stream",
       "stream": "stdout",
       "text": [
        " set([])\n",
        "TJSP"
       ]
      },
      {
       "output_type": "stream",
       "stream": "stdout",
       "text": [
        " set([])\n",
        "CNI: corrup\u00e7\u00e3o tira competitividade do Pa\u00eds e empresas"
       ]
      },
      {
       "output_type": "stream",
       "stream": "stdout",
       "text": [
        " set([])\n",
        "!!!>  Unicode strings with encoding declaration are not supported. Please use bytes input or XML fragments without declaration.\n",
        "Brasil depende de 'crise amainar'"
       ]
      },
      {
       "output_type": "stream",
       "stream": "stdout",
       "text": [
        " set([])\n",
        "Recupera\u00e7\u00e3o de verdade est\u00e1 come\u00e7ando, diz Carney"
       ]
      },
      {
       "output_type": "stream",
       "stream": "stdout",
       "text": [
        " set([])\n",
        "O g\u00e1s natural espera seu momento"
       ]
      },
      {
       "output_type": "stream",
       "stream": "stdout",
       "text": [
        " set([])\n",
        "Mestrado : Administra\u00c3\u00a7\u00c3\u00a3o dos Servi\u00c3\u00a7os da Sa\u00c3\u00bade"
       ]
      },
      {
       "output_type": "stream",
       "stream": "stdout",
       "text": [
        " set([])\n",
        "Governo esperava queda menor do PIB e tentar\u00e1 relativizar resultado negativo"
       ]
      },
      {
       "output_type": "stream",
       "stream": "stdout",
       "text": [
        " set([])\n",
        "Comiss\u00e3o aprova nova Lei de Licita\u00e7\u00f5es \u2014 Senado Federal"
       ]
      },
      {
       "output_type": "stream",
       "stream": "stdout",
       "text": [
        " set([])\n",
        "BB e Correios v\u00e3o preparar Banco Postal para oferecer novos servi\u00e7os"
       ]
      },
      {
       "output_type": "stream",
       "stream": "stdout",
       "text": [
        " set([])\n",
        "Iata: Pa\u00eds deve ser 3\u00ba maior mercado a\u00e9reo dom\u00e9stico"
       ]
      },
      {
       "output_type": "stream",
       "stream": "stdout",
       "text": [
        " set([])\n",
        "Hoje \u00e9 domingo, dia 8 de dezembro de 2013"
       ]
      },
      {
       "output_type": "stream",
       "stream": "stdout",
       "text": [
        " set([u'Hist\\xf3ria'])\n",
        "A revolu\u00e7\u00e3o dos fazendeiros set([])\n",
        "The Economist destaca fraqueza da economia brasielira"
       ]
      },
      {
       "output_type": "stream",
       "stream": "stdout",
       "text": [
        " set([])\n",
        "O novo rumo fiscal do governo"
       ]
      },
      {
       "output_type": "stream",
       "stream": "stdout",
       "text": [
        " set([u'Luis Nassif', u'Educa\\xe7\\xe3o', u'PIB', u'governo Dilma', u'Desenvolvimento', u'Internacional', u'Economia', u'pol\\xedtica fiscal', u'Cultura', u'Justi\\xe7a'])\n",
        "A curiosa Marinaleda set([])\n",
        "Ryanair se junta a rivais de baixo custo com expans\u00e3o na Alemanha"
       ]
      },
      {
       "output_type": "stream",
       "stream": "stdout",
       "text": [
        " set([])\n",
        "Jo\u00e3o Paulo dos Reis Velloso: Da moderniza\u00e7\u00e3o \u00e0s oportunidades"
       ]
      },
      {
       "output_type": "stream",
       "stream": "stdout",
       "text": [
        " set([])\n",
        "Cofre Bobble Head Tom & Jerry \u00ab Blog de Brinquedo"
       ]
      },
      {
       "output_type": "stream",
       "stream": "stdout",
       "text": [
        " set([u'Funko', u'TV', u'Cofre', u'Hanna-Barbera', u'Bobble-Head', u'Cartoon'])\n",
        "The page cannot be found set([])\n",
        "Comiss\u00e3o de Infraestrutura debate transposi\u00e7\u00e3o do Rio S\u00e3o Francisco \u2014 Senado Federal"
       ]
      },
      {
       "output_type": "stream",
       "stream": "stdout",
       "text": [
        " set([])\n",
        "O encontro de mundos paralelos"
       ]
      },
      {
       "output_type": "stream",
       "stream": "stdout",
       "text": [
        " set([])\n",
        "Chinesa Huawei quer dobrar sua receita at\u00e9 2018"
       ]
      },
      {
       "output_type": "stream",
       "stream": "stdout",
       "text": [
        " set([])\n",
        "Com alta de juro, fundos ganham da poupan\u00e7a na maioria das situa\u00e7\u00f5es set([])\n",
        "Um estudo cl\u00e1ssico sobre 1964"
       ]
      },
      {
       "output_type": "stream",
       "stream": "stdout",
       "text": [
        " set([u'Oswaldo Conti-Bosso', u'Luis Nassif', u'Internacional', u'Economia', u'Cultura', u'Pol\\xedtica', u'Justi\\xe7a', u'Hist\\xf3ria'])\n",
        "Grupo de extens\u00e3o da UFC apresenta espet\u00e1culo \"Contando e Cantando Vinicius\" set([])\n",
        "Bandes d\u00e1 continuidade \u00e0 parceria com Associa\u00e7\u00e3o Comercial de Cachoeiro na posse da nova diretoria"
       ]
      },
      {
       "output_type": "stream",
       "stream": "stdout",
       "text": [
        " set([])\n",
        "Empresas do Jap\u00e3o est\u00e3o menos otimistas no 4\u00batri"
       ]
      },
      {
       "output_type": "stream",
       "stream": "stdout",
       "text": [
        " set([])\n",
        "Sustentabilidade"
       ]
      },
      {
       "output_type": "stream",
       "stream": "stdout",
       "text": [
        " set([])\n",
        "As cidades m\u00e9dias d\u00e3o show na hora de criar empregos"
       ]
      },
      {
       "output_type": "stream",
       "stream": "stdout",
       "text": [
        " set([u'IBGE', u'Par\\xe1', u'Oportunidades profissionais', u'Emprego formal', u'Santa Catarina', u'Economia brasileira', u'BRF', u'Cidades brasileiras'])\n",
        "Confian\u00e7a, uma caracter\u00edstica crucial para a qualquer economiaEpoch Times em Portugu\u00eas"
       ]
      },
      {
       "output_type": "stream",
       "stream": "stdout",
       "text": [
        " set([u'Francis Fukuyama', u'Gary North', u'livro', u'economia', u'confian\\xe7a', u'tese', u'liberdade', u'ordem social', u'Estado'])\n",
        "Desenvolvimento da Produ\u00e7\u00e3o  Not\u00edcias: APLs de economia criativa t\u00eam at\u00e9 15 de outubro para participar de sele\u00e7\u00e3o p\u00fablica do MDIC"
       ]
      },
      {
       "output_type": "stream",
       "stream": "stdout",
       "text": [
        " set([])\n",
        "Torcida organizada"
       ]
      },
      {
       "output_type": "stream",
       "stream": "stdout",
       "text": [
        " set([])\n",
        "Tombini reitera que BC atuar\u00e1 no mercado cambial em 2014"
       ]
      },
      {
       "output_type": "stream",
       "stream": "stdout",
       "text": [
        " set([])\n",
        "'Quanto mais vive um aposentado, mais decresce sua renda', exp\u00f5e leitor"
       ]
      },
      {
       "output_type": "stream",
       "stream": "stdout",
       "text": [
        " set([])\n",
        "CAE realiza semin\u00e1rio sobre a crise no federalismo brasileiro \u2014 Senado Federal"
       ]
      },
      {
       "output_type": "stream",
       "stream": "stdout",
       "text": [
        " set([])\n",
        "ABDI: Brasil foi decisivo para destravar acordo da OMC"
       ]
      },
      {
       "output_type": "stream",
       "stream": "stdout",
       "text": [
        " set([])\n",
        "Economia alem\u00e3 deve ter crescimento modesto no 4\u00ba tri"
       ]
      },
      {
       "output_type": "stream",
       "stream": "stdout",
       "text": [
        " set([])\n",
        "Pai cria pr\u00f3tese de m\u00e3o para filho usando impressora 3D"
       ]
      },
      {
       "output_type": "stream",
       "stream": "stdout",
       "text": [
        " set([u'protese', u'pai', u'impressora 3D', u'm\\xe3o', u'filho'])\n",
        "Desenvolvimento da Produ\u00e7\u00e3o  Not\u00edcias: Mercedes-Benz \u00e9 d\u00e9cima montadora a anunciar investimentos no Brasil por causa do Inovar-Auto"
       ]
      },
      {
       "output_type": "stream",
       "stream": "stdout",
       "text": [
        " set([])\n",
        "Agricultores produtores de alimentos e energias renov\u00e1veis"
       ]
      },
      {
       "output_type": "stream",
       "stream": "stdout",
       "text": [
        " set([u'Blog do Editor', u'Efici\\xeancia Energ\\xe9tica', u'Reciclagem', u'Energia Solar', u'Agricultura org\\xe2nica urbana', u'Reciclagem e novos materiais', u'Pesquisa e Inova\\xe7\\xe3o', u'Saneamento ecol\\xf3gico', u'Pecados Verdes', u'Constru\\xe7\\xe3o Verde', u'Desenvolvimento sustent\\xe1vel', u'Energias renov\\xe1veis', u'Pol\\xedticas p\\xfablicas', u'Blog da Reda\\xe7\\xe3o'])\n",
        "Desenvolvimento da Produ\u00e7\u00e3o  Not\u00edcias: Renai e China Eximbank discutem oportunidades de neg\u00f3cios no Brasil"
       ]
      },
      {
       "output_type": "stream",
       "stream": "stdout",
       "text": [
        " set([])\n",
        "Debate pol\u00edtico de 1 ano antes tende a pautar campanha"
       ]
      },
      {
       "output_type": "stream",
       "stream": "stdout",
       "text": [
        " set([])\n",
        "Com\u00e9rcio Exterior  Not\u00edcias: Terminam esta semana inscri\u00e7\u00f5es para Miss\u00e3o Empresarial ao Norte da \u00c1frica"
       ]
      },
      {
       "output_type": "stream",
       "stream": "stdout",
       "text": [
        " set([])\n",
        "Copom sobe juros para 11% ao ano, acima do n\u00edvel do in\u00edcio do governo set([])\n",
        "Li\u00e7\u00f5es dos craques"
       ]
      },
      {
       "output_type": "stream",
       "stream": "stdout",
       "text": [
        " set([])\n",
        "Super\u00e1vit prim\u00e1rio brasileiro surpreende e soma R$2,13 bi em fevereiro, mas incerteza permanece"
       ]
      },
      {
       "output_type": "stream",
       "stream": "stdout",
       "text": [
        " set([])\n",
        "Governo libera R$ 672 mil do Empreender-PB na plen\u00e1ria do ODE em Esperan\u00e7a set([])\n",
        "Setor de seguros crescer\u00e1 17% em 2014, prev\u00ea SulAmerica"
       ]
      },
      {
       "output_type": "stream",
       "stream": "stdout",
       "text": [
        " set([])\n",
        "Dinheiro e Tecnologia"
       ]
      },
      {
       "output_type": "stream",
       "stream": "stdout",
       "text": [
        " set([])\n",
        "A pr\u00f3xima m\u00e1gica da Wizard"
       ]
      },
      {
       "output_type": "stream",
       "stream": "stdout",
       "text": [
        " set([])\n",
        "Est\u00f4nia cresce 0,6% no 3\u00ba tri e sai da recess\u00e3o"
       ]
      },
      {
       "output_type": "stream",
       "stream": "stdout",
       "text": [
        " set([])\n",
        "Gastos com constru\u00e7\u00e3o nos EUA t\u00eam leve alta em fevereiro"
       ]
      },
      {
       "output_type": "stream",
       "stream": "stdout",
       "text": [
        " set([])\n",
        "Refis proporciona arrecada\u00e7\u00e3o de R$ 20 bilh\u00f5es"
       ]
      },
      {
       "output_type": "stream",
       "stream": "stdout",
       "text": [
        " set([])\n",
        "Instituto Latino Americano de Educa\u00c3\u00a7\u00c3\u00a3o"
       ]
      },
      {
       "output_type": "stream",
       "stream": "stdout",
       "text": [
        " set([])\n",
        "ISTO\u00c9 Independente"
       ]
      },
      {
       "output_type": "stream",
       "stream": "stdout",
       "text": [
        " set([])\n",
        "PIB revisado do Jap\u00e3o cresce 0,3% no 3\u00batrimestre"
       ]
      },
      {
       "output_type": "stream",
       "stream": "stdout",
       "text": [
        " set([])\n",
        "ISTO\u00c9 Dinheiro"
       ]
      },
      {
       "output_type": "stream",
       "stream": "stdout",
       "text": [
        " set([])\n",
        "PS faz tempo de antena sobre Passos Coelho no dia das mentiras"
       ]
      },
      {
       "output_type": "stream",
       "stream": "stdout",
       "text": [
        " set([])\n",
        "FMI adverte que a economia da Venezuela est\u00e1 mal"
       ]
      },
      {
       "output_type": "stream",
       "stream": "stdout",
       "text": [
        " set([])\n",
        "Atraso na obra da transposi\u00e7\u00e3o causa perda a empresas"
       ]
      },
      {
       "output_type": "stream",
       "stream": "stdout",
       "text": [
        " set([])\n",
        "Skaf: PIB aponta para expans\u00e3o em linha com o mundial"
       ]
      },
      {
       "output_type": "stream",
       "stream": "stdout",
       "text": [
        " set([])\n",
        "CEF lan\u00e7a consulta de extratos do FGTS dos \u00faltimos 25 anos"
       ]
      },
      {
       "output_type": "stream",
       "stream": "stdout",
       "text": [
        " set([u'fgtas'])\n",
        "Crise mundial n\u00e3o afetou trabalho no Brasil, diz Mantega"
       ]
      },
      {
       "output_type": "stream",
       "stream": "stdout",
       "text": [
        " set([])\n",
        "FMI defende que BCE deve afrouxar pol\u00edtica monet\u00e1ria"
       ]
      },
      {
       "output_type": "stream",
       "stream": "stdout",
       "text": [
        " set([])\n",
        "Para opositores, modelo econ\u00f4mico do governo est\u00e1 \"exaurido\" e \"desgovernado\""
       ]
      },
      {
       "output_type": "stream",
       "stream": "stdout",
       "text": [
        " set([])\n",
        "EUA se preparam para dia de A\u00e7\u00e3o de Gra\u00e7as e Black Friday"
       ]
      },
      {
       "output_type": "stream",
       "stream": "stdout",
       "text": [
        " set([u'INFOStart', u'Vendas', u'Black Friday', u'Internet'])\n",
        "Disclinc contrata ACP Comunica\u00e7\u00e3o"
       ]
      },
      {
       "output_type": "stream",
       "stream": "stdout",
       "text": [
        " set([u'Hospital', u'Parcerias', u'Custos', u'Associa\\xe7\\xf5es', u'Projeto de Lei', u'recursos', u'Administra\\xe7\\xe3o', u'Estrat\\xe9gia', u'Servi\\xe7os', u'Sa\\xfade p\\xfablica', u'Regula\\xe7\\xe3o', u'Hospitais', u'TI', u'planos de s\\xe1ude', u'Justi\\xe7a', u'Gest\\xe3o', u'pesquisa', u'balan\\xe7o', u'Pesquisas', u'aquisi\\xe7\\xe3o', u'c\\xe2ncer', u'Operadoras', u'Medicamentos', u'Tecnologia', u'Minist\\xe9rio da Sa\\xfade', u'm\\xe9dicos', u'educa\\xe7\\xe3o', u'Ind\\xfastria Farmac\\xeautica', u'Expans\\xe3o', u'Anvisa', u'carreiras', u'Sa\\xfade', u'ANS', u'SUS', u'neg\\xf3cios'])\n",
        "Folha de S.Paulo"
       ]
      },
      {
       "output_type": "stream",
       "stream": "stdout",
       "text": [
        " set([])\n",
        "Como ganhar um cheque de at\u00e9 US$ 500 milh\u00f5es da Apax, dona da Tivit"
       ]
      },
      {
       "output_type": "stream",
       "stream": "stdout",
       "text": [
        " set([])\n",
        "O primeiro acordo da OMC em 20 anos"
       ]
      },
      {
       "output_type": "stream",
       "stream": "stdout",
       "text": [
        " set([u'Educa\\xe7\\xe3o', u'Desenvolvimento', u'Economia', u'Organiza\\xe7\\xe3o Mundial do Com\\xe9rcio', u'Pol\\xedtica', u'Justi\\xe7a', u'Cidadania'])\n",
        "Ipojuca joga R$ 10 milh\u00f5es na economia com d\u00e9cimo terceiro integral para servidores"
       ]
      },
      {
       "output_type": "stream",
       "stream": "stdout",
       "text": [
        " set([u'.justi\\xe7a', u'.Olinda', u'.Justi\\xe7a', u'.Educa\\xe7\\xe3o', u'.Lula', u'.Imagens', u'.Recife', u'.Esportes', u'.Futebol', u'.pol\\xedtica'])\n",
        "!!!>  Unicode strings with encoding declaration are not supported. Please use bytes input or XML fragments without declaration.\n",
        "The requested URL could not be retrieved set([])\n",
        "Pensamento brasileiro"
       ]
      },
      {
       "output_type": "stream",
       "stream": "stdout",
       "text": [
        " set([])\n",
        "Baixo Sul em Alta IV"
       ]
      },
      {
       "output_type": "stream",
       "stream": "stdout",
       "text": [
        " set([])\n",
        "Conselho da Petrobras agiu certo no caso de Pasadena, diz Mantega set([])\n",
        "Os dados da queda da poupan\u00e7a privada"
       ]
      },
      {
       "output_type": "stream",
       "stream": "stdout",
       "text": [
        " set([u'Indicadores', u'Mercados', u'Economia', u'Pol\\xedtica', u'poupan\\xe7a', u'investimentos', u'Com\\xe9rcio exterior', u'Consumidor', u'Neg\\xf3cios'])\n",
        "Veja a biografia de Jo\u00e3o Goulart \u2014 Senado Federal"
       ]
      },
      {
       "output_type": "stream",
       "stream": "stdout",
       "text": [
        " set([])\n",
        "Brasil-R\u00c3\u00bassia: hist\u00c3\u00b3ria, pol\u00c3\u00adtica, cultura"
       ]
      },
      {
       "output_type": "stream",
       "stream": "stdout",
       "text": [
        " set([])\n",
        "Papa pede renova\u00e7\u00e3o da Igreja e ataca 'idolatria ao dinheiro'"
       ]
      },
      {
       "output_type": "stream",
       "stream": "stdout",
       "text": [
        " set([u'Papa Francisco', u'Internacional', u'Economia', u'Cultura', u'Defesa do Consumidor', u'Pol\\xedtica', u'Justi\\xe7a', u'Igreja Cat\\xf3lica'])\n",
        "Aprova\u00e7\u00e3o de presidente russo \u00e9 a mais baixa desde 2000, mostra pesquisa"
       ]
      },
      {
       "output_type": "stream",
       "stream": "stdout",
       "text": [
        " set([])\n",
        "BCE mant\u00e9m taxa de juros em 025%"
       ]
      },
      {
       "output_type": "stream",
       "stream": "stdout",
       "text": [
        " set([])\n",
        "As receitas de Palocci para a China e para o Brasil"
       ]
      },
      {
       "output_type": "stream",
       "stream": "stdout",
       "text": [
        " set([u'Agroneg\\xf3cio', u'Economia', u'Internacional', u'crise', u'investimentos', u'China', u'Cultura', u'pol\\xedtica econ\\xf4mica', u'Pol\\xedtica', u'Am\\xe9rica Latina'])\n",
        "Est\u00f4nia cresce 0,6% no 3\u00ba tri e sai da recess\u00e3o"
       ]
      },
      {
       "output_type": "stream",
       "stream": "stdout",
       "text": [
        " set([])\n",
        "Paim conclama negros a conhecer direitos previstos no Estatuto da Igualdade Racial \u2014 Senado Federal"
       ]
      },
      {
       "output_type": "stream",
       "stream": "stdout",
       "text": [
        " set([])\n",
        "Como tornar suas reuni\u00f5es mais produtivas set([])\n",
        "Anefac: Eleva\u00e7\u00e3o da Selic ter\u00e1 efeito pequeno no cr\u00e9dito"
       ]
      },
      {
       "output_type": "stream",
       "stream": "stdout",
       "text": [
        " set([])\n",
        "Tombini diz que infla\u00e7\u00e3o vai continuar em queda e que BC est\u00e1 vigilante"
       ]
      },
      {
       "output_type": "stream",
       "stream": "stdout",
       "text": [
        " set([])\n",
        "Mestrado em Economia e Ci\u00c3\u00aancias Pol\u00c3\u00adticas"
       ]
      },
      {
       "output_type": "stream",
       "stream": "stdout",
       "text": [
        " set([])\n",
        "Metade dos Estados investe menos do que no \u00faltimo ano pr\u00e9-eleitoral"
       ]
      },
      {
       "output_type": "stream",
       "stream": "stdout",
       "text": [
        " set([u'.justi\\xe7a', u'.Olinda', u'.Justi\\xe7a', u'.Educa\\xe7\\xe3o', u'.Lula', u'.Imagens', u'.Recife', u'.Esportes', u'.Futebol', u'.pol\\xedtica'])\n",
        "Um mar de informa\u00e7\u00f5es e Entretenimento"
       ]
      },
      {
       "output_type": "stream",
       "stream": "stdout",
       "text": [
        " set([])\n",
        "Aldemir Bendine"
       ]
      },
      {
       "output_type": "stream",
       "stream": "stdout",
       "text": [
        " set([])\n",
        "Trof\u00e9u Cultura Econ\u00f4mica celebra sua 10\u00aa edi\u00e7\u00e3o amanh\u00e3"
       ]
      },
      {
       "output_type": "stream",
       "stream": "stdout",
       "text": [
        " set([])\n",
        "Edital para seu Concurso P\u00fablico sai at\u00e9 o in\u00edcio de dezembro"
       ]
      },
      {
       "output_type": "stream",
       "stream": "stdout",
       "text": [
        " set([])\n",
        "Universidade Federal do Cear\u00e1"
       ]
      },
      {
       "output_type": "stream",
       "stream": "stdout",
       "text": [
        " set([])\n",
        "BC: Brasil est\u00e1 preparado para fim de est\u00edmulos dos EUA"
       ]
      },
      {
       "output_type": "stream",
       "stream": "stdout",
       "text": [
        " set([])\n",
        "'Marina Precisa flexibilizar discurso', diz Rodrigues"
       ]
      },
      {
       "output_type": "stream",
       "stream": "stdout",
       "text": [
        " set([])\n",
        "Combate \u00e0 desigualdade social :: Mantenha-se Atualizado :: Governo de Portugal"
       ]
      },
      {
       "output_type": "stream",
       "stream": "stdout",
       "text": [
        " set([])\n",
        "Otimismo de empres\u00e1rios com economia brasileira diminui"
       ]
      },
      {
       "output_type": "stream",
       "stream": "stdout",
       "text": [
        " set([])\n",
        "Mestrado Administra\u00c3\u00a7\u00c3\u00a3o dos Servi\u00c3\u00a7os da Sa\u00c3\u00bade"
       ]
      },
      {
       "output_type": "stream",
       "stream": "stdout",
       "text": [
        " set([])\n",
        "O PIB sai da sombra"
       ]
      },
      {
       "output_type": "stream",
       "stream": "stdout",
       "text": [
        " set([])\n",
        "Noite da democracia"
       ]
      },
      {
       "output_type": "stream",
       "stream": "stdout",
       "text": [
        " set([])\n",
        "Fortaleza sedia XX Congresso de Arquitetos"
       ]
      },
      {
       "output_type": "stream",
       "stream": "stdout",
       "text": [
        " set([])\n",
        "COOPHAB realiza conv\u00eanio para 78 casas no interior"
       ]
      },
      {
       "output_type": "stream",
       "stream": "stdout",
       "text": [
        " set([u'habita\\xe7\\xe3o', u'cooperativismo', u'COOPHAB'])\n",
        "Amea\u00e7a de corte de nota de risco pressiona governo"
       ]
      },
      {
       "output_type": "stream",
       "stream": "stdout",
       "text": [
        " set([])\n",
        "Livro aborda Assessoria Econ\u00f4mica do segundo governo de Vargas"
       ]
      },
      {
       "output_type": "stream",
       "stream": "stdout",
       "text": [
        " set([u'Internacional', u'Economia', u'Cultura', u'Defesa do Consumidor', u'Pol\\xedtica', u'Justi\\xe7a', u'Assessoria Econ\\xf4mica de Vargas'])\n",
        "Banco Central confirma apostas e sobe juro b\u00e1sico, a Selic, para 10% ao ano"
       ]
      },
      {
       "output_type": "stream",
       "stream": "stdout",
       "text": [
        " set([])\n",
        "Setor de eletro produzir\u00e1 menos em 2013, estima Abinee"
       ]
      },
      {
       "output_type": "stream",
       "stream": "stdout",
       "text": [
        " set([])\n",
        "ISTO\u00c9 Dinheiro"
       ]
      },
      {
       "output_type": "stream",
       "stream": "stdout",
       "text": [
        " set([])\n",
        "BC da Fran\u00e7a eleva previs\u00e3o de crescimento do PIB"
       ]
      },
      {
       "output_type": "stream",
       "stream": "stdout",
       "text": [
        " set([])\n",
        "Empresas devem aumentar sal\u00e1rio-base, diz Kuroda"
       ]
      },
      {
       "output_type": "stream",
       "stream": "stdout",
       "text": [
        " set([])\n",
        "Para Portugal, combater a pobreza torna-se um bom neg\u00f3cio"
       ]
      },
      {
       "output_type": "stream",
       "stream": "stdout",
       "text": [
        " set([u'combate \\xe0 pobreza', u'Europa', u'Meio Ambiente', u'portugal', u'M\\xeddia', u'pol\\xedticas sociais em portugal', u'Consumidor', u'crise', u'Cultura', u'Pol\\xedtica', u'Justi\\xe7a', u'Hist\\xf3ria'])\n",
        "Nas redes sociais, internautas praticamente s\u00f3 leem t\u00edtulos de postagens"
       ]
      },
      {
       "output_type": "stream",
       "stream": "stdout",
       "text": [
        " set([u'internet'])\n",
        "Cooperativismo em Revista :. Governo de SC entrega certificados do programa Economia Verde e Solid\u00e1ria na Capital"
       ]
      },
      {
       "output_type": "stream",
       "stream": "stdout",
       "text": [
        " set([])\n",
        "Not\u00edcias do Governo do Estado de Minas Gerais"
       ]
      },
      {
       "output_type": "stream",
       "stream": "stdout",
       "text": [
        " set([])\n",
        "Banqueiro do BTG Pactual diz que BNDES 'grande demais' pode n\u00e3o contribuir tanto com a economia"
       ]
      },
      {
       "output_type": "stream",
       "stream": "stdout",
       "text": [
        " set([])\n",
        "Focus reduz crescimento do Pa\u00eds para 2,35% em 2013"
       ]
      },
      {
       "output_type": "stream",
       "stream": "stdout",
       "text": [
        " set([])\n",
        "Semp Toshiba fecha f\u00e1brica de inform\u00e1tica na Bahia"
       ]
      },
      {
       "output_type": "stream",
       "stream": "stdout",
       "text": [
        " set([])\n",
        "Anfir apura alta nas vendas de implementos rodovi\u00e1rios"
       ]
      },
      {
       "output_type": "stream",
       "stream": "stdout",
       "text": [
        " set([])\n",
        "As dificuldades das jornais locais nos EUA"
       ]
      },
      {
       "output_type": "stream",
       "stream": "stdout",
       "text": [
        " set([u'Indicadores', u'Mercados', u'mercado de m\\xeddia', u'Consumidor', u'Ind\\xfastria', u'Desenvolvimento', u'Internacional', u'Economia', u'Hist\\xf3ria', u'Pol\\xedtica', u'Neg\\xf3cios'])\n",
        "PIB revisado do Jap\u00e3o cresce 0,3% no 3\u00batrimestre"
       ]
      },
      {
       "output_type": "stream",
       "stream": "stdout",
       "text": [
        " set([])\n",
        "A noite do agroneg\u00f3cio"
       ]
      },
      {
       "output_type": "stream",
       "stream": "stdout",
       "text": [
        " set([])\n",
        "\u201cPecado Mortal\u201d \u00e9 muito mais do que sua audi\u00eancia aponta"
       ]
      },
      {
       "output_type": "stream",
       "stream": "stdout",
       "text": [
        " set([u'Carlos Lombardi', u'Fernando Pav\\xe3o', u'novela', u'Pecado Mortal', u'Record'])\n",
        "Veja como a taxa b\u00e1sica de juros influencia a economia brasileira"
       ]
      },
      {
       "output_type": "stream",
       "stream": "stdout",
       "text": [
        " set([])\n",
        "Investimentos federais recuam em outubro e novembro"
       ]
      },
      {
       "output_type": "stream",
       "stream": "stdout",
       "text": [
        " set([])\n",
        "O Minist\u00e9rio  Not\u00edcias: Para Pimentel, momento hist\u00f3rico favorece foco na competitividade nacional"
       ]
      },
      {
       "output_type": "stream",
       "stream": "stdout",
       "text": [
        " set([])\n",
        "Boa Vista: inadimpl\u00eancia de consumidor cresce 2,3%"
       ]
      },
      {
       "output_type": "stream",
       "stream": "stdout",
       "text": [
        " set([])\n",
        "Prorroga\u00e7\u00e3o da Zona Franca de Manaus pode ser votada em 2014 set([])\n",
        "Comiss\u00e3o de Mudan\u00e7as Clim\u00e1ticas aprova relat\u00f3rio de atividades de 2013 \u2014 Senado Federal"
       ]
      },
      {
       "output_type": "stream",
       "stream": "stdout",
       "text": [
        " set([])\n",
        "A\u00e9cio Neves defende reformula\u00e7\u00e3o do Mercosul"
       ]
      },
      {
       "output_type": "stream",
       "stream": "stdout",
       "text": [
        " set([])\n",
        "As marcas mais valiosas do pa\u00eds em 2013"
       ]
      },
      {
       "output_type": "stream",
       "stream": "stdout",
       "text": [
        " set([u'Constru\\xe7\\xe3o Civil', u'Mercados', u'Infraestrutura', u'Pol\\xedtica', u'Economia', u'Cultura', u'Pol\\xedtica Monet\\xe1ria', u'marcas mais valiosas', u'ita\\xfa', u'Neg\\xf3cios'])\n",
        "Anefac: Eleva\u00e7\u00e3o da Selic ter\u00e1 efeito pequeno no cr\u00e9dito"
       ]
      },
      {
       "output_type": "stream",
       "stream": "stdout",
       "text": [
        " set([])\n",
        "Trabalho an\u00e1logo ao escravo \u00e9 maior entre negros"
       ]
      },
      {
       "output_type": "stream",
       "stream": "stdout",
       "text": [
        " set([u'Henrique Cortez', u'polui\\xe7\\xe3o', u'sa\\xfade', u'C\\xf3digo Florestal-floresta zero', u'agrot\\xf3xicos', u'entrevista', u'economia', u'lixo', u'legisla\\xe7\\xe3o ambiental', u'agricultura', u'desmatamento', u'\\xedndice', u'modelo de desenvolvimento', u'Conven\\xe7\\xe3o do Clima', u'racismo', u'urbaniza\\xe7\\xe3o', u'hidrel\\xe9tricas', u'energia', u'crise ambiental', u'sociedade', u'desenvolvimento sustent\\xe1vel', u'conserva\\xe7\\xe3o', u'movimentos sociais', u'MP', u'reflex\\xe3o', u'consumo & consumismo', u'biocombust\\xedveis', u'terras ind\\xedgenas', u'Amaz\\xf4nia', u'pesquisa', u'\\xe1gua', u'Rio+20', u'ind\\xedgenas', u'governo', u'energia nuclear', u'trabalho escravo', u'CO2', u'licenciamento ambiental', u'pol\\xedticas p\\xfablicas', u'educa\\xe7\\xe3o', u'Belo Monte', u'IBAMA', u'contamina\\xe7\\xe3o', u'mudan\\xe7as clim\\xe1ticas', u'desastres naturais', u'aquecimento global'])\n",
        "Interna\u00e7\u00e3o de Amari n\u00e3o afeta acordo da TPP, diz Suga"
       ]
      },
      {
       "output_type": "stream",
       "stream": "stdout",
       "text": [
        " set([])\n",
        "Corre\u00e7\u00e3o: BoJ n\u00e3o precisa de medida adicional, diz Sato"
       ]
      },
      {
       "output_type": "stream",
       "stream": "stdout",
       "text": [
        " set([])\n",
        "Bahia \u00e9 sede de encontro sobre di\u00e1spora africana set([])\n",
        "De volta ao mercado"
       ]
      },
      {
       "output_type": "stream",
       "stream": "stdout",
       "text": [
        " set([])\n",
        "Encomendas \u00e0 ind\u00fastria nos EUA saltam em fevereiro"
       ]
      },
      {
       "output_type": "stream",
       "stream": "stdout",
       "text": [
        " set([])\n",
        "ABDI: Brasil foi decisivo para destravar acordo da OMC"
       ]
      },
      {
       "output_type": "stream",
       "stream": "stdout",
       "text": [
        " set([])\n",
        "O debate sobre a regulamenta\u00e7\u00e3o da comida de rua em S\u00e3o Paulo"
       ]
      },
      {
       "output_type": "stream",
       "stream": "stdout",
       "text": [
        " set([u'Na Rede', u'Finan\\xe7as Pessoais', u'Cidadania', u'Pol\\xedtica', u'Internacional', u'Economia', u'Consumidor', u'Educa\\xe7\\xe3o', u'comida de rua', u'Seu Neg\\xf3cio'])\n",
        "Em discurso no Rio, Dilma destaca controle da infla\u00e7\u00e3o"
       ]
      },
      {
       "output_type": "stream",
       "stream": "stdout",
       "text": [
        " set([])\n",
        "150 planos de sa\u00fade est\u00e3o com as vendas proibidas por tr\u00eas meses"
       ]
      },
      {
       "output_type": "stream",
       "stream": "stdout",
       "text": [
        " set([u'Ag\\xeancia Nacional de Sa\\xfade Complementar', u'Indicadores', u'planos de sa\\xfade', u'Pol\\xedtica', u'Economia', u'Pol\\xedticas Sociais', u'Defesa do Consumidor', u'Consumidor', u'Europa'])\n",
        "O julgamento da corre\u00e7\u00e3o da poupan\u00e7a no STF"
       ]
      },
      {
       "output_type": "stream",
       "stream": "stdout",
       "text": [
        " set([u'corre\\xe7\\xe3o da poupan\\xe7a', u'Supremo Tribunal Federal', u'Internacional', u'Economia', u'Cultura', u'Pol\\xedtica', u'Justi\\xe7a'])\n",
        "Venda de roupas cai e limita alta de pre\u00e7os"
       ]
      },
      {
       "output_type": "stream",
       "stream": "stdout",
       "text": [
        " set([])\n",
        "Metade dos Estados investe menos do que em 2009"
       ]
      },
      {
       "output_type": "stream",
       "stream": "stdout",
       "text": [
        " set([])\n",
        "Vendas no varejo da China aceleram em novembro"
       ]
      },
      {
       "output_type": "stream",
       "stream": "stdout",
       "text": [
        " set([])\n",
        "Average extraction time per page 0.104921813887 seconds\n"
       ]
      }
     ],
     "prompt_number": 13
    },
    {
     "cell_type": "code",
     "collapsed": false,
     "input": [
      "a = cleaned_texts[4]\n",
      "print a.cleaned_text"
     ],
     "language": "python",
     "metadata": {},
     "outputs": [
      {
       "output_type": "stream",
       "stream": "stdout",
       "text": [
        "A eleva\u00e7\u00e3o da taxa b\u00e1sica de juros da economia em 0,25 ponto porcentual ter\u00e1 um efeito \"muito pequeno\" nas opera\u00e7\u00f5es de cr\u00e9dito, de acordo com a Associa\u00e7\u00e3o Nacional de Executivos de Finan\u00e7as, Administra\u00e7\u00e3o e Contabilidade (Anefac). A decis\u00e3o de subir a Selic de 10,75% para 11,00% ao ano foi anunciada na noite desta quarta-feira, 2, pelo Comit\u00ea de Pol\u00edtica Monet\u00e1ria (Copom) do Banco Central (BC) e ficou em linha com a maior parte das estimativas dos analistas consultados pelo AE-Proje\u00e7\u00f5es.\n",
        "\n",
        "Segundo o diretor executivo de Estudos e Pesquisas Econ\u00f4micas da Anefac, Miguel de Oliveira, h\u00e1 um grande \"descolamento\" entre a Selic e os juros praticados junto aos consumidores. A institui\u00e7\u00e3o estima que, com a nova Selic, a taxa m\u00e9dia de juros para pessoa jur\u00eddica passar\u00e1 de 3,32% ao m\u00eas (48,04% ao ano) para 3,34% ao m\u00eas ou 48,38% ao ano.\n",
        "\n",
        "Na linha de cr\u00e9dito de capital de giro, por exemplo, a taxa iria de 1,74% ao m\u00eas (23,00% ao ano) para 1,76% (23,29% ao ano). Quando a Selic estava em 10,75% ao ano, os juros pagos num empr\u00e9stimo de capital de giro pelo prazo de 90 dias, no valor de R$ 50 mil, somavam R$ 2.655,68. J\u00e1 com a Selic em 11,00%, os juros desembolsados sobem para R$ 2.686,74, uma alta de R$ 31,06, conforme simula\u00e7\u00e3o feita pela Anefac.\n",
        "\n",
        "Ainda no mercado de pessoa jur\u00eddica, a Anefac informou que, na linha de cr\u00e9dito de desconto de duplicatas, a taxa de juros deve avan\u00e7ar de 2,41% (33,08% ao ano) para 2,43% ao m\u00eas (33,39% ao ano), enquanto na conta garantida haveria varia\u00e7\u00e3o de 5,82% ao m\u00eas (97,16% ao ano) para 5,84% ao m\u00eas (97,61% ao ano).\n",
        "\n",
        "Com a nova Selic, a taxa de juros m\u00e9dia para pessoa f\u00edsica, nas contas da Anefac, vai subir dos atuais 5,82% ao m\u00eas - ou 97,05% ao ano - para 5,84% ao m\u00eas, o equivalente a 97,49% ao ano.\n",
        "\n",
        "A varia\u00e7\u00e3o prevista tamb\u00e9m \u00e9 pequena ao considerar apenas os juros praticados no com\u00e9rcio, que, de acordo com a Anefac, passam de 4,46% ao m\u00eas (68,81% ao ano) para 4,48% ao m\u00eas (69,20% ao ano). O mesmo acontece com cart\u00e3o de cr\u00e9dito (de 10,08% ao m\u00eas ou 216,59% ao ano para 10,10% e 217,28%); cheque especial (de 8,08% ou 154,06% para 8,10% ou 154,63%); CDC bancos - financiamento de ve\u00edculos (de 1,75% ou 23,14% para 1,77% ou 23,43%); empr\u00e9stimo pessoal - bancos (de 3,30% ou 47,64% para 3,32% ou 47,98%); e empr\u00e9stimo pessoal - financeira (de 7,22% ou 130,84% para 7,24% ou 131,36%).\n",
        "\n",
        "A Anefac simulou a compra de um ve\u00edculo de R$ 25 mil, a ser pago em 60 meses, pela linha CDC bancos para financiamento de autom\u00f3veis. Com a mudan\u00e7a da Selic de 10,75% ao ano para 11%, o valor da parcela passa de R$ 676,33 para R$ 679,71 e o valor total pago sobe de R$ 40.580,04 para R$ 40,782,81.\n"
       ]
      }
     ],
     "prompt_number": 29
    },
    {
     "cell_type": "markdown",
     "metadata": {},
     "source": [
      "##Construindo uma rede de tags"
     ]
    },
    {
     "cell_type": "code",
     "collapsed": false,
     "input": [
      "import networkx as nx\n",
      "from collections import defaultdict\n",
      "from itertools import combinations"
     ],
     "language": "python",
     "metadata": {},
     "outputs": [],
     "prompt_number": 14
    },
    {
     "cell_type": "markdown",
     "metadata": {},
     "source": [
      "vamos ponderar as arestas do grafo pelo n\u00famero de coocorr\u00eancias de tags"
     ]
    },
    {
     "cell_type": "code",
     "collapsed": false,
     "input": [
      "rede = defaultdict(lambda:defaultdict(lambda:0))\n",
      "for art in cleaned_texts:\n",
      "    tags = art.tags\n",
      "    for edge in combinations(tags,2):\n",
      "        rede[edge[0].strip().lower()][edge[1].strip().lower()] += 1"
     ],
     "language": "python",
     "metadata": {},
     "outputs": [],
     "prompt_number": 15
    },
    {
     "cell_type": "code",
     "collapsed": false,
     "input": [
      "G = nx.DiGraph()\n",
      "for k, v in rede.iteritems():\n",
      "    G.add_weighted_edges_from([(k, e, w) for e, w in v.iteritems()])"
     ],
     "language": "python",
     "metadata": {},
     "outputs": [],
     "prompt_number": 16
    },
    {
     "cell_type": "code",
     "collapsed": false,
     "input": [
      "nx.draw(G)"
     ],
     "language": "python",
     "metadata": {},
     "outputs": [
      {
       "metadata": {},
       "output_type": "display_data",
       "png": "[encoded data removed]",
       "text": [
        "<matplotlib.figure.Figure at 0x7fed03ec6310>"
       ]
      }
     ],
     "prompt_number": 17
    },
    {
     "cell_type": "code",
     "collapsed": false,
     "input": [
      "print art.meta_keywords"
     ],
     "language": "python",
     "metadata": {},
     "outputs": [
      {
       "output_type": "stream",
       "stream": "stdout",
       "text": [
        "revista, Editora 3, Neg\u00f3cios, ISTO\u00c9, Dinheiro, moeda, cota\u00e7\u00f5es\n"
       ]
      }
     ],
     "prompt_number": 21
    },
    {
     "cell_type": "code",
     "collapsed": false,
     "input": [
      "art = Goo.extract('http://blog.justen.eng.br/2014/09/curso-de-arduino-em-belo-horizonte.html')"
     ],
     "language": "python",
     "metadata": {},
     "outputs": [],
     "prompt_number": 25
    },
    {
     "cell_type": "code",
     "collapsed": false,
     "input": [
      "art.cleaned_text"
     ],
     "language": "python",
     "metadata": {},
     "outputs": [
      {
       "metadata": {},
       "output_type": "pyout",
       "prompt_number": 26,
       "text": [
        "u''"
       ]
      }
     ],
     "prompt_number": 26
    },
    {
     "cell_type": "code",
     "collapsed": false,
     "input": [
      "art.title"
     ],
     "language": "python",
     "metadata": {},
     "outputs": [
      {
       "metadata": {},
       "output_type": "pyout",
       "prompt_number": 27,
       "text": [
        "u'Curso de Arduino em Belo Horizonte'"
       ]
      }
     ],
     "prompt_number": 27
    },
    {
     "cell_type": "markdown",
     "metadata": {},
     "source": [
      "##An\u00e1lise de cluster"
     ]
    },
    {
     "cell_type": "code",
     "collapsed": false,
     "input": [
      "from collections import Counter\n",
      "filtered_keywords = []\n",
      "keywords = []\n",
      "for art in cleaned_texts:\n",
      "    tags = [t.strip().lower() for t in art.tags]\n",
      "    keywords.extend(tags)\n",
      "    keywords.extend([kw.strip(',').lower() for kw in art.meta_keywords.strip().split()])\n",
      "keywords = Counter(keywords)\n",
      "print len(keywords)\n",
      "print keywords\n",
      "for k,c in keywords.iteritems():\n",
      "    if c <174 and c>1:\n",
      "        filtered_keywords.append(k)\n",
      "        \n",
      "print len(filtered_keywords)"
     ],
     "language": "python",
     "metadata": {},
     "outputs": [
      {
       "output_type": "stream",
       "stream": "stdout",
       "text": [
        "699\n",
        "Counter({u'neg\\xf3cios': 185, u'dinheiro': 177, u'revista': 175, u'editora': 174, u'isto\\xe9': 174, u'3': 174, u'cota\\xe7\\xf5es': 174, u'moeda': 174, u'economia': 109, u'pol\\xedtica': 80, u'cultura': 73, u'tecnologia': 65, u'internacional': 59, u'brasil': 48, u'an\\xe1lise': 48, u'opini\\xe3o': 45, u'imagem': 45, u'informa\\xe7\\xe3o': 44, u'manchetes': 43, u'notici\\xe1rio': 43, u'pol\\xedcia': 43, u'resultados': 43, u'geral': 43, u'esporte': 43, u'cobertura': 43, u'jornalismo': 43, u'loteria': 43, u'loterias': 43, u'fotografia': 43, u'.justi\\xe7a': 32, 'de': 31, u'desenvolvimento': 31, u'not\\xedcias': 26, u'do': 21, u'ind\\xfastria': 19, u'com\\xe9rcio': 19, u'artesanato': 18, 'blog': 18, u'comercial': 17, u'minist\\xe9rio': 17, u'microempresa': 17, u'pol\\xedticas': 17, u'exterior': 17, u'propriedade': 17, u'transfer\\xeancia': 17, u'intelectual': 17, u'not\\xedcia': 17, u'registro': 17, u'exporta\\xe7\\xe3o': 17, u'defesa': 17, u'.pol\\xedtica': 16, u'.olinda': 16, u'.educa\\xe7\\xe3o': 16, u'.lula': 16, 'jamildo': 16, u'.recife': 16, u'.futebol': 16, u'.imagens': 16, u'.esportes': 16, u'investimento': 15, u'colunista#': 13, u'gr\\xe1ficos': 13, u'mercados': 13, u'financas': 13, u'#nome': 13, u'cidadania': 12, u'justi\\xe7a': 11, u'sa\\xfade': 11, u'indicadores': 10, u'\\xfaltimas': 10, u'educa\\xe7\\xe3o': 9, u'hist\\xf3ria': 8, u'energia': 8, u'universidade': 8, u'pib': 7, u'com\\xe9rcio exterior': 6, u'china': 6, u'importados': 6, u'investimentos': 6, u'consumidor': 6, u'produtos': 6, u'luis nassif': 5, u'em': 5, u'federal': 5, u'm\\xeddia': 5, u'governo': 5, u'pesquisa': 5, u'e': 5, u'cear\\xe1': 4, u'casas': 4, u'curso': 4, u'am\\xe9rica latina': 4, u'a': 4, u'gradua\\xe7\\xe3o': 4, u'infraestrutura': 4, u'fortaleza': 4, u'mestrado': 4, u'internet': 4, u'p\\xf3s-gradua\\xe7\\xe3o': 4, u'ibge': 4, u'emprego': 4, u'para': 4, u'extrangeira': 4, u'seu': 4, u'doutorado': 4, u'movimentos sociais': 4, u'tinta': 4, u'pol\\xedtica monet\\xe1ria': 4, u'extens\\xe3o': 4, u'intercambio': 4, u'pol\\xedtica fiscal': 4, u'ci\\xeancia': 4, u'crise': 4, u'trabalho': 4, u'ufc': 4, u'meio ambiente': 4, u'celulares': 4, u'lei|not\\xedcias': 3, u'malhas': 3, u'inova\\xe7\\xe3o': 3, u'hidrel\\xe9tricas': 3, u'eua': 3, u'expans\\xe3o': 3, u'toda': 3, u'hora!': 3, u'beleza': 3, u'na rede': 3, u'parcerias': 3, u'desenvolvimento sustent\\xe1vel': 3, u'bndes': 3, u'par\\xe1': 3, u'acess\\xf3rios': 3, u'mercado': 3, u'defesa do consumidor': 3, u'da': 3, 'europa': 3, u'por': 3, u'selic': 3, u'macroeconomia': 3, u'estrat\\xe9gia': 3, u'habita\\xe7\\xe3o': 3, u'biocombust\\xedveis': 3, u'servi\\xe7os': 3, u'pol\\xedticas p\\xfablicas': 3, u'mundo': 3, u'nas': 3, u'balan\\xe7o': 3, u'petr\\xf3leo': 3, u'consumo & consumismo': 2, u'entrevista': 2, u'mp4': 2, u'mp5': 2, u'modelo de desenvolvimento': 2, u'tv': 2, u'sociedade': 2, u'ti': 2, u'gest\\xe3o p\\xfablica': 2, u'automotivo': 2, u'neg\\xf3cios e finan\\xe7as': 2, u'pol\\xedtica econ\\xf4mica': 2, u'mundial': 2, u'broxton': 2, u'esportes': 2, u'pede': 2, u'lixo': 2, u'bolha imobiliaria': 2, u'sus': 2, u'c\\xf3digo florestal-floresta zero': 2, u'jato': 2, u'juro': 2, u'imoveis': 2, u'rel\\xf3gio': 2, u'legisla\\xe7\\xe3o ambiental': 2, u'carreiras': 2, u'mudan\\xe7as clim\\xe1ticas': 2, u'rio+20': 2, u'hospital': 2, u'gadgets': 2, u's\\xf3': 2, u'mp': 2, u'infostart': 2, u'governo dilma': 2, u'c\\xe2ncer': 2, u'agradeceu': 2, u'desastres naturais': 2, u'agroneg\\xf3cio': 2, u'confian\\xe7a': 2, u'tablets': 2, u'litoral': 2, u'liberdade': 2, u'bobble-head': 2, u'carro': 2, u'conven\\xe7\\xe3o do clima': 2, u'opera': 2, u'moda': 2, u'agricultura': 2, u'minist\\xe9rio da sa\\xfade': 2, u'sa\\xfade p\\xfablica': 2, u'projeto de lei': 2, u'funko': 2, u'cofre': 2, u'concurso': 2, u'navigator': 2, u'estado': 2, u'gps': 2, u'gary north': 2, u'hospitais': 2, u'f\\xf3rum': 2, u'ibama': 2, u'ans': 2, u'recursos': 2, u'cart\\xe3o': 2, u'ordem social': 2, u'm\\xe9dicos': 2, u'windows': 2, u'varejo': 2, u'profissionais': 2, u'\\xe1gua': 2, u'dos': 2, u'polui\\xe7\\xe3o': 2, u'outdoor': 2, u'desmatamento': 2, u'consegue': 2, u'controle': 2, u'administra\\xe7\\xe3o': 2, u'organiza\\xe7\\xe3o mundial do com\\xe9rcio': 2, u'meio': 2, u'7jso6-tn9zba7n8c53qkwn_t8am': 2, u'mobilidade': 2, u'comprar': 2, u'eletr\\xf4nicos': 2, u'aquecimento global': 2, u'francis fukuyama': 2, u'agrot\\xf3xicos': 2, u'guido mantega': 2, u'preto': 2, u'alemanha': 2, u'funda\\xe7\\xe3o': 2, u'banco central': 2, u'\\xedndice': 2, u'co2': 2, u'associa\\xe7\\xf5es': 2, u'planos de s\\xe1ude': 2, u'omc': 2, u'mapas': 2, u'ambiente': 2, u'barras': 2, u'mercosul': 2, u'conseguiu': 2, u'com': 2, u'250': 2, u'conserva\\xe7\\xe3o': 2, u'sustentabilidade': 2, u'aquisi\\xe7\\xe3o': 2, u'energia nuclear': 2, u'trabalho escravo': 2, u'vaga': 2, u'infla\\xe7\\xe3o': 2, u'medicamentos': 2, u'homem': 2, u'ip': 2, u'anvisa': 2, u'adaptador': 2, u'hanna-barbera': 2, u'crise ambiental': 2, u'contamina\\xe7\\xe3o': 2, u'reflex\\xe3o': 2, u'putin': 2, u'livro': 2, u'cartucho': 2, u'amaz\\xf4nia': 2, u'cartoon': 2, u'lcd': 2, u'constru\\xe7\\xe3o civil': 2, u'leitor': 2, u'sofia': 2, u'nsw-ssiqn5zru29fqqrf24j6rtif6fhpb8-xzklfcz-jsoien9j8az9jvodm1hupjs1ys-b8s9mh3vjwi3whw6x4y3k9qguik6pdly3ws3-oiz9d2rts38lnjl208s4ax7kx': 2, u'gest\\xe3o': 2, u'henrique cortez': 2, u'vendas': 2, u'intel': 2, u'taxa selic': 2, u'pesquisas': 2, u'cabo': 2, u'brf': 2, u'copom': 2, u'ofertas': 2, u'regula\\xe7\\xe3o': 2, u'central': 2, u'licenciamento ambiental': 2, u'o': 2, u'pol\\xedticas sociais': 2, u'operadoras': 2, u'soc': 2, u'banco': 2, u'belo monte': 2, u'custos': 2, u'camera': 2, u'terras ind\\xedgenas': 2, u'wireless': 2, u'ind\\xedgenas': 2, u'info': 2, u'boa': 2, u'som': 2, 'politica': 2, u'urbaniza\\xe7\\xe3o': 2, u'tese': 2, u'ind\\xfastria farmac\\xeautica': 2, u'produto': 2, u'ferramentas': 2, u'b\\xe1sico': 2, u'': 1, u'osx': 1, u'protese': 1, u'energias renov\\xe1veis': 1, u'corrup\\xe7\\xe3o na prefeitura de s\\xe3o paulo': 1, u'corpo': 1, u'mercados,not\\xedcias': 1, u'gr\\xeamio': 1, u'economia,a\\xe7\\xf5es,brasil,copa': 1, u'muito': 1, u'masculina': 1, u'terror': 1, u'copa 2014': 1, u'mercados,coment\\xe1rio': 1, u'supremo tribunal federal': 1, u'pele': 1, u'aneel,energias': 1, u'apartheid': 1, u'esp\\xedrita': 1, 'promessas': 1, 'larga': 1, u'sauipe': 1, u'seguran\\xe7a': 1, u'constru\\xe7\\xe3o verde': 1, u'p\\xfablicas,smart': 1, u'reciclagem': 1, u'ditadura': 1, u'brasileira,dilma': 1, u'acordo': 1, u'energia e\\xf3lica': 1, u'estaleiro': 1, u'sul': 1, u'turismo': 1, u'cabotagem': 1, u'franquias': 1, u'sobre': 1, u'friday': 1, u'gest\\xe3o privada': 1, u'm\\xe1rcio holland': 1, u'direitos humanos': 1, u'ucr\\xe2nia': 1, u'street,not\\xedcias': 1, u'di\\xe1rio': 1, u'emprego formal': 1, u'finan\\xe7as pessoais': 1, u'extra': 1, u'nordeste': 1, u'saneamento ecol\\xf3gico': 1, u'mercados e bolsas': 1, u'catarina': 1, u'acordo comercial': 1, u'from': 1, u'black friday': 1, u'transporte coletivo': 1, u'fiat': 1, u'perspectivas 2014': 1, u'pecados verdes': 1, u'partido comunista': 1, u'siderurgia': 1, u'porto digital': 1, u'mansueto de almeida': 1, u'criatividade': 1, u'voc\\xea': 1, u'ibm': 1, u'sortidos': 1, u'custo': 1, 'cac': 1, u'lazer': 1, u'nino': 1, u'ag\\xeancia nacional de sa\\xfade complementar': 1, u'impressoras': 1, u'gastos': 1, 'bolsas': 1, u'europeias,bolsas': 1, u'planos de sa\\xfade': 1, u'noticias': 1, u'fora das quatro linhas': 1, u'vaiv\\xe9m': 1, u'mas': 1, u'bovespa': 1, u'primeiro': 1, u'pol\\xedticas sociais em portugal': 1, u'carreira': 1, u'blog da reda\\xe7\\xe3o': 1, u'partidos': 1, u'n\\xe3o': 1, u'ita\\xfa': 1, 'mantega': 1, u'sabonete': 1, 'coelho': 1, u'tsf,economia,ucr\\xe2nia,impostos': 1, u'grande': 1, u'se': 1, u'telecom': 1, u'treinamento': 1, u'papel': 1, u'cr\\xedtica': 1, u'telecomunica\\xe7\\xf5es': 1, u'soldador': 1, u'enem': 1, u'explora\\xe7\\xe3o de petr\\xf3leo': 1, u'smartphone': 1, u'le': 1, u'aquisi\\xe7\\xf5es': 1, u'pcs': 1, u'econ\\xf4mico': 1, u'juliana damasceno': 1, u'reciclagem e novos materiais': 1, u'transnordestina': 1, u'cidades brasileiras': 1, 'ftse': 1, 'passos': 1, u'cr\\xe9dito': 1, u'brasileira': 1, u'crescimento do pib': 1, 'dax': 1, u'nos': 1, u'recess\\xe3o': 1, u'papa francisco': 1, u'helibr\\xe1s': 1, u'fitness': 1, u'in\\xedcio': 1, 's&p': 1, u'ga\\xfacho': 1, u'pactual': 1, u'maquiagem': 1, u'eua,a\\xe7\\xf5es,s&p,wall': 1, u'programa de canal': 1, 'igualdade,solidariedade': 1, u'ryanair': 1, u'simples nacional': 1, u'variedades': 1, 'tempo': 1, u'mais.': 1, u'que': 1, u'brasileiras': 1, u'jap\\xe3o,not\\xedcias': 1, u'mercado de m\\xeddia': 1, u'elei\\xe7\\xf5es': 1, u'assessoria econ\\xf4mica de vargas': 1, 'mentiras': 1, u'corre\\xe7\\xe3o da poupan\\xe7a': 1, u'estudantes de economia': 1, u'europa,intelectuais': 1, u'goff,breve': 1, u'energias': 1, u'marcos lisboa': 1, u'filho \\xfanico': 1, u'leve': 1, u'pecado mortal': 1, u'bolsa s\\xe3o paulo abertura': 1, u'petrobras': 1, u'copa do mundo 2014': 1, u'mantega,not\\xedcias': 1, u'fevereiro': 1, u'eletr\\xf4nico': 1, u'm\\xeas': 1, u'design': 1, u'preliminares': 1, 'russia': 1, u'dana': 1, u'agricultura org\\xe2nica urbana': 1, u'hospital de cl\\xednicas de porto alegre': 1, u'impressora 3d': 1, u'pr\\xe9-market,bovespa,ibovespa,abertura': 1, u'suspense': 1, u'sap': 1, u'brasil bancos': 1, u'helic\\xf3ptero militar': 1, u'doces': 1, u'-': 1, u'pelotas': 1, u'rousseff,guido': 1, u'terceiro': 1, u'redes': 1, u't\\xeam': 1, u'empresas x': 1, u'pais': 1, u'grid,an\\xe1lise': 1, u'log\\xedstica': 1, u'lux': 1, u'bolsa de valores': 1, u'seu neg\\xf3cio': 1, u'microsoft': 1, u'curiosidades': 1, u'bovespa,a\\xe7\\xf5es,bm&f,ibovespa,abertura': 1, 'nasdaq': 1, u'festas': 1, u'marinha': 1, u'agronegocio': 1, u'huawei': 1, u'animais': 1, u'biblioteca': 1, u'patrocinadores': 1, u'black': 1, u'tudo': 1, u'ir\\xe3': 1, u'fus\\xe3o e aquisi\\xe7\\xe3o': 1, u'meteorologia': 1, u'processador': 1, u'minist\\xe9rio da fazenda': 1, u'policial': 1, u'departamento do tesouro dos eua': 1, u'eletricidade': 1, u'governo federal': 1, u'sebrae': 1, u'juros': 1, u'yellen,not\\xedcias': 1, u'recife': 1, u'{tags|encode:html_reserved}': 1, u'carlos lombardi': 1, u'm\\xe9dia': 1, u'btg': 1, u'futebol': 1, u'brasileir\\xe3o s\\xe9rie b': 1, u'centro de simula\\xe7\\xe3o em procedimentos minimamente invasivos': 1, u'renda': 1, u'nuclear': 1, u'rob\\xf4': 1, u'm\\xfasicas': 1, u'mundo,not\\xedcias': 1, u'hor\\xf3scopo': 1, u'cirurgia': 1, u'petrobr\\xe1s': 1, u'mais': 1, u'cooperativismo': 1, u'pdt': 1, u'economia brasileira': 1, 'pesquisa*': 1, u'oportunidades profissionais': 1, u'bizarro': 1, u'cotidiano': 1, 'ps': 1, u'brics': 1, u'reforma econ\\xf4mica': 1, u'copa': 1, u'taxa de juros': 1, u'renov\\xe1veis,pol\\xedticas': 1, u'imovel': 1, 'antena': 1, u'santa catarina': 1, u'apag\\xe3o': 1, u'camaqu\\xe3': 1, u'marcas mais valiosas': 1, u'jogos': 1, 'smartphones': 1, u'casa': 1, u'fotos': 1, u'cabelos': 1, 'guido': 1, u'infla\\xe7\\xe3o,fmi,bce,not\\xedcias': 1, u'bebidas': 1, u'efici\\xeancia energ\\xe9tica': 1, u'portugal': 1, u'gastronomia': 1, u'biblioteca nacional': 1, u'mercado financeiro': 1, u'converg\\xeancia': 1, u'alta': 1, u'seguran\\xe7a p\\xfablica': 1, u'tecnologia da informa\\xe7\\xe3o': 1, u'alian\\xe7as': 1, u'cidades': 1, u'samy': 1, u'fgtas': 1, u'pai': 1, u'suape': 1, u'oswaldo conti-bosso': 1, u'filho': 1, u'constru\\xe7\\xe3o': 1, 'utilidades': 1, u'portal': 1, u'novela': 1, u'crise econ\\xf4mica': 1, u'instituto simutec': 1, u'costa': 1, u'concess\\xf5es de rodovias': 1, u'wqteaoh': 1, u'fernando pav\\xe3o': 1, u'na': 1, 'tutoriais': 1, u'pesquisa e inova\\xe7\\xe3o': 1, u'rivais': 1, u'reserve,janet': 1, u'estrat\\xe9gias': 1, u'racismo': 1, u'mercado imobiliario': 1, u'nacional': 1, u'comportamento': 1, u'\\xe1frica do sul': 1, u'destaque': 1, u'crise financeira': 1, u'online': 1, u'salgados': 1, 'banda': 1, u'formal': 1, u'combate \\xe0 pobreza': 1, u'distribui\\xe7\\xe3o': 1, u'fa\\xe7a': 1, u'clipping': 1, u'cisco': 1, u'aplicativos': 1, u'm\\xe1fia do iss': 1, 'gasparetto': 1, u'humor': 1, u'fumicultura': 1, u'oposi\\xe7\\xe3o': 1, u'rio': 1, u'poupan\\xe7a': 1, u'pernambuco': 1, u'm\\xe3o': 1, u'bc': 1, u'marketing': 1, u'g\\xe1s': 1, u'trimestre': 1, u'idade': 1, u'investimento imobiliario': 1, u'organiza\\xe7\\xe3o': 1, u'santa': 1, u'campo de franco': 1, u'\\xe1sia,china,nikkei': 1, u'biocombust\\xedvel': 1, u'coophab': 1, u'microgera\\xe7\\xe3o': 1, u'baden-w\\xfcrttemberg': 1, u'nelson mandela': 1, u'planalto': 1, u'esquisitices': 1, u'jacques': 1, u'refinaria': 1, u'estudo de economia neocl\\xe1ssica': 1, u'economia,federal': 1, u'prefeitura de camaqu\\xe3': 1, 'financeiro': 1, u'comida de rua': 1, u'sorteio': 1, u'filhos': 1, u'renov\\xe1veis': 1, u'encontro': 1, u'problema': 1, u'record': 1, u'baixa': 1, u'parede': 1, u'dados': 1, u'pol\\xedtica econ\\xf4mica e elei\\xe7\\xf5es': 1, u'norte': 1, u'hp': 1, u'baixo': 1, u'crise europeia': 1, u'feminina': 1, u'icms': 1, u'asi\\xe1ticas,not\\xedcias': 1, u'revis\\xe3o': 1, u'reformas': 1, 'dilma': 1, u'metodologia': 1, u'ue': 1, u'igreja cat\\xf3lica': 1, u'espanhola': 1, u'cinema': 1, u'preg\\xe3o': 1, u'europa,\\xe1sia,a\\xe7\\xf5es,bolsas': 1, u'asfalto': 1, 'ibovespa': 1, u'imposto': 1, u'furnas': 1, u'bancos centrais': 1, u'no': 1, u'junta': 1, u'eike batista': 1, u'inter': 1, u'economia,economia': 1, u'reforma pol\\xedtica': 1, u'blog do editor': 1, u'simula\\xe7\\xe3o': 1, u'pr\\xe9-sal': 1, u'papa': 1, u'modelo': 1, 'dicas': 1, u'rjryivv': 1, 'jones': 1, u'dilma,lula,elecciones': 1, u'cloud computing': 1, u'energia solar': 1, 'dow': 1, u'agenda pol\\xedtica para 2014': 1, u'oportunidades': 1, u'banco votorantim': 1})\n",
        "303\n"
       ]
      }
     ],
     "prompt_number": 49
    },
    {
     "cell_type": "code",
     "collapsed": false,
     "input": [
      "from sklearn import metrics\n",
      "from sklearn.cluster import KMeans\n",
      "from sklearn.decomposition import PCA\n",
      "from sklearn.preprocessing import scale"
     ],
     "language": "python",
     "metadata": {},
     "outputs": [],
     "prompt_number": 62
    },
    {
     "cell_type": "code",
     "collapsed": false,
     "input": [
      "#data = zeros((len(cleaned_texts),len(filtered_keywords)))\n",
      "data = defaultdict(lambda:defaultdict(lambda:0))\n",
      "for art in cleaned_texts:\n",
      "    tags = tags = [t.strip().lower() for t in art.tags]\n",
      "    keywords = [kw.strip(',').lower() for kw in art.meta_keywords.strip().split()]\n",
      "    for k in set(tags+keywords):\n",
      "        data[art][k] = 1 if k in filtered_keywords else 0\n",
      "    "
     ],
     "language": "python",
     "metadata": {},
     "outputs": [],
     "prompt_number": 50
    },
    {
     "cell_type": "code",
     "collapsed": false,
     "input": [
      "data_matrix = []\n",
      "for v in data.itervalues():\n",
      "    line = [v[k] for k in filtered_keywords]\n",
      "    data_matrix.append(line)\n",
      "data_matrix = np.array(data_matrix)\n",
      "data_matrix.shape"
     ],
     "language": "python",
     "metadata": {},
     "outputs": [
      {
       "metadata": {},
       "output_type": "pyout",
       "prompt_number": 54,
       "text": [
        "(381, 303)"
       ]
      }
     ],
     "prompt_number": 54
    },
    {
     "cell_type": "code",
     "collapsed": false,
     "input": [
      "estimator = KMeans(5, n_jobs=4)\n",
      "estimator.fit(data_matrix)"
     ],
     "language": "python",
     "metadata": {},
     "outputs": [
      {
       "metadata": {},
       "output_type": "pyout",
       "prompt_number": 58,
       "text": [
        "KMeans(copy_x=True, init='k-means++', max_iter=300, n_clusters=5, n_init=10,\n",
        "    n_jobs=4, precompute_distances=True, random_state=None, tol=0.0001,\n",
        "    verbose=0)"
       ]
      }
     ],
     "prompt_number": 58
    },
    {
     "cell_type": "code",
     "collapsed": false,
     "input": [
      "estimator.cluster_centers_"
     ],
     "language": "python",
     "metadata": {},
     "outputs": [
      {
       "metadata": {},
       "output_type": "pyout",
       "prompt_number": 60,
       "text": [
        "array([[  3.30033003e-02,   1.82145965e-17,   1.82145965e-17, ...,\n",
        "          3.60822483e-16,   6.60066007e-03,   1.82145965e-17],\n",
        "       [ -1.73472348e-17,   0.00000000e+00,   0.00000000e+00, ...,\n",
        "          1.00000000e+00,   0.00000000e+00,   4.65116279e-02],\n",
        "       [  0.00000000e+00,   1.00000000e+00,   1.00000000e+00, ...,\n",
        "          0.00000000e+00,   0.00000000e+00,   0.00000000e+00],\n",
        "       [ -6.93889390e-18,   0.00000000e+00,   0.00000000e+00, ...,\n",
        "         -4.16333634e-17,   0.00000000e+00,   0.00000000e+00],\n",
        "       [ -6.93889390e-18,   0.00000000e+00,   0.00000000e+00, ...,\n",
        "         -4.16333634e-17,   0.00000000e+00,   0.00000000e+00]])"
       ]
      }
     ],
     "prompt_number": 60
    },
    {
     "cell_type": "code",
     "collapsed": false,
     "input": [
      "reduced_data = PCA(n_components=2).fit_transform(data_matrix)"
     ],
     "language": "python",
     "metadata": {},
     "outputs": [],
     "prompt_number": 63
    },
    {
     "cell_type": "code",
     "collapsed": false,
     "input": [
      "kmeans = KMeans(8, n_jobs=4)\n",
      "kmeans.fit(reduced_data)"
     ],
     "language": "python",
     "metadata": {},
     "outputs": [
      {
       "metadata": {},
       "output_type": "pyout",
       "prompt_number": 84,
       "text": [
        "KMeans(copy_x=True, init='k-means++', max_iter=300, n_clusters=8, n_init=10,\n",
        "    n_jobs=4, precompute_distances=True, random_state=None, tol=0.0001,\n",
        "    verbose=0)"
       ]
      }
     ],
     "prompt_number": 84
    },
    {
     "cell_type": "code",
     "collapsed": false,
     "input": [
      "\n",
      "# Step size of the mesh. Decrease to increase the quality of the VQ.\n",
      "h = .02     # point in the mesh [x_min, m_max]x[y_min, y_max].\n",
      "\n",
      "# Plot the decision boundary. For that, we will assign a color to each\n",
      "x_min, x_max = reduced_data[:, 0].min() + 1, reduced_data[:, 0].max() - 1\n",
      "y_min, y_max = reduced_data[:, 1].min() + 1, reduced_data[:, 1].max() - 1\n",
      "xx, yy = np.meshgrid(np.arange(x_min, x_max, h), np.arange(y_min, y_max, h))\n",
      "\n",
      "# Obtain labels for each point in mesh. Use last trained model.\n",
      "Z = kmeans.predict(np.c_[xx.ravel(), yy.ravel()])\n",
      "\n",
      "# Put the result into a color plot\n",
      "Z = Z.reshape(xx.shape)\n",
      "#plt.figure(1)\n",
      "#plt.clf()\n",
      "#plt.imshow(Z, interpolation='nearest', extent=(xx.min(), xx.max(), yy.min(), yy.max()),cmap=plt.cm.Paired,           aspect='auto', origin='lower')\n",
      "\n",
      "plt.plot(reduced_data[:, 0], reduced_data[:, 1], 'k.', markersize=2)\n",
      "# Plot the centroids as a white X\n",
      "centroids = kmeans.cluster_centers_\n",
      "plt.scatter(centroids[:, 0], centroids[:, 1],\n",
      "            marker='x', s=169, linewidths=3,\n",
      "            color='r', zorder=10, alpha=0.3)\n",
      "plt.title('K-means clustering on the digits dataset (PCA-reduced data)\\n'\n",
      "          'Centroids are marked with white cross')\n",
      "#plt.xlim(x_min, x_max)\n",
      "#plt.ylim(y_min, y_max)\n",
      "plt.xticks(())\n",
      "plt.yticks(())"
     ],
     "language": "python",
     "metadata": {},
     "outputs": [
      {
       "metadata": {},
       "output_type": "pyout",
       "prompt_number": 85,
       "text": [
        "([], <a list of 0 Text yticklabel objects>)"
       ]
      },
      {
       "metadata": {},
       "output_type": "display_data",
       "png": "[encoded data removed]",
       "text": [
        "<matplotlib.figure.Figure at 0x7fecf4c4fb90>"
       ]
      }
     ],
     "prompt_number": 85
    },
    {
     "cell_type": "code",
     "collapsed": false,
     "input": [
      "print x_min, x_max"
     ],
     "language": "python",
     "metadata": {},
     "outputs": [
      {
       "output_type": "stream",
       "stream": "stdout",
       "text": [
        "-3.04143367743 -0.202966432617\n"
       ]
      }
     ],
     "prompt_number": 79
    },
    {
     "cell_type": "code",
     "collapsed": false,
     "input": [
      "plot(reduced_data, 'k.')\n",
      "plt.xlim(x_min, x_max)\n",
      "plt.ylim(y_min, y_max)"
     ],
     "language": "python",
     "metadata": {},
     "outputs": [
      {
       "metadata": {},
       "output_type": "pyout",
       "prompt_number": 80,
       "text": [
        "(0.32670315886447632, 2.7754714991095177)"
       ]
      },
      {
       "metadata": {},
       "output_type": "display_data",
       "png": "[encoded data removed]",
       "text": [
        "<matplotlib.figure.Figure at 0x7fed02a38250>"
       ]
      }
     ],
     "prompt_number": 80
    },
    {
     "cell_type": "code",
     "collapsed": false,
     "input": [],
     "language": "python",
     "metadata": {},
     "outputs": []
    }
   ],
   "metadata": {}
  }
 ]
}